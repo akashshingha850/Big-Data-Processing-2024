{
 "cells": [
  {
   "cell_type": "code",
   "execution_count": 1,
   "metadata": {
    "colab": {
     "base_uri": "https://localhost:8080/"
    },
    "id": "WOI6C_QxjjeI",
    "outputId": "451fb359-9143-445b-f8cc-3e3ad4faf446"
   },
   "outputs": [
    {
     "name": "stdout",
     "output_type": "stream",
     "text": [
      "Collecting pyspark\n",
      "  Downloading pyspark-3.5.1.tar.gz (317.0 MB)\n",
      "\u001b[2K     \u001b[90m━━━━━━━━━━━━━━━━━━━━━━━━━━━━━━━━━━━━━━━━\u001b[0m \u001b[32m317.0/317.0 MB\u001b[0m \u001b[31m1.8 MB/s\u001b[0m eta \u001b[36m0:00:00\u001b[0m\n",
      "\u001b[?25h  Preparing metadata (setup.py) ... \u001b[?25l\u001b[?25hdone\n",
      "Requirement already satisfied: py4j==0.10.9.7 in /usr/local/lib/python3.10/dist-packages (from pyspark) (0.10.9.7)\n",
      "Building wheels for collected packages: pyspark\n",
      "  Building wheel for pyspark (setup.py) ... \u001b[?25l\u001b[?25hdone\n",
      "  Created wheel for pyspark: filename=pyspark-3.5.1-py2.py3-none-any.whl size=317488491 sha256=a766dea55d6b95bf418cd7a66cbbed90662a3ac99c39335e3dadfe64344e730d\n",
      "  Stored in directory: /root/.cache/pip/wheels/80/1d/60/2c256ed38dddce2fdd93be545214a63e02fbd8d74fb0b7f3a6\n",
      "Successfully built pyspark\n",
      "Installing collected packages: pyspark\n",
      "Successfully installed pyspark-3.5.1\n"
     ]
    }
   ],
   "source": [
    "pip install pyspark"
   ]
  },
  {
   "cell_type": "code",
   "execution_count": 2,
   "metadata": {
    "id": "Rowke7-8j-N5"
   },
   "outputs": [],
   "source": [
    "from pyspark.sql import SparkSession\n",
    "from pyspark.ml.stat import Correlation\n",
    "import pyspark.sql.functions as F\n",
    "from pyspark.ml.feature import StringIndexer, OneHotEncoder"
   ]
  },
  {
   "cell_type": "code",
   "execution_count": 3,
   "metadata": {
    "id": "2OyVET9VkOvH"
   },
   "outputs": [],
   "source": [
    "spark = SparkSession.builder.getOrCreate()"
   ]
  },
  {
   "cell_type": "code",
   "execution_count": 4,
   "metadata": {
    "id": "Arx_DQe-kYpn"
   },
   "outputs": [],
   "source": [
    "df = spark.read.csv('inventory_data.csv', inferSchema=True, header=True)"
   ]
  },
  {
   "cell_type": "code",
   "execution_count": null,
   "metadata": {
    "colab": {
     "base_uri": "https://localhost:8080/"
    },
    "id": "lri2SQN7m_IR",
    "outputId": "3d28590c-1d07-4f23-85fd-99735f358ec8"
   },
   "outputs": [
    {
     "name": "stdout",
     "output_type": "stream",
     "text": [
      "+---+---+---+--------+------+------+--------+\n",
      "|age|sex|bmi|children|smoker|region|expenses|\n",
      "+---+---+---+--------+------+------+--------+\n",
      "|  0|  0|  0|       0|     0|     0|       0|\n",
      "+---+---+---+--------+------+------+--------+\n",
      "\n"
     ]
    }
   ],
   "source": [
    "from pyspark.sql.functions import col,isnan, when, count\n",
    "df.select([count(when(isnan(c) | col(c).isNull(), c)).alias(c) for c in df.columns]\n",
    "   ).show()"
   ]
  },
  {
   "cell_type": "code",
   "execution_count": 21,
   "metadata": {
    "colab": {
     "base_uri": "https://localhost:8080/"
    },
    "id": "IhsDyWZuk0yA",
    "outputId": "0916087d-4140-42ca-ec5f-6a6cf0608d26"
   },
   "outputs": [
    {
     "name": "stdout",
     "output_type": "stream",
     "text": [
      "root\n",
      " |-- supermarket: string (nullable = true)\n",
      " |-- date: date (nullable = true)\n",
      " |-- month: integer (nullable = true)\n",
      " |-- year: integer (nullable = true)\n",
      " |-- product_category: string (nullable = true)\n",
      " |-- item_count: integer (nullable = true)\n",
      "\n"
     ]
    }
   ],
   "source": [
    "df.printSchema()"
   ]
  },
  {
   "cell_type": "code",
   "execution_count": 5,
   "metadata": {
    "colab": {
     "base_uri": "https://localhost:8080/"
    },
    "id": "qXKvOp6-lkp4",
    "outputId": "8ed7208a-906b-464a-c3e7-bbd1a2095490"
   },
   "outputs": [
    {
     "name": "stdout",
     "output_type": "stream",
     "text": [
      "+-----------+----------+-----+----+----------------+----------+---------------+--------------------+\n",
      "|supermarket|      date|month|year|product_category|item_count|supermarket_cat|product_category_cat|\n",
      "+-----------+----------+-----+----+----------------+----------+---------------+--------------------+\n",
      "|      Sains|2023-01-18|    1|2023| health_products|       332|            2.0|                 5.0|\n",
      "|      Sains|2023-01-26|    1|2023|   food_cupboard|       323|            2.0|                 2.0|\n",
      "|      Sains|2023-01-28|    1|2023|   baby_products|        39|            2.0|                 8.0|\n",
      "|      Tesco|2023-01-12|    1|2023|          frozen|        47|            3.0|                 4.0|\n",
      "|  Morrisons|2023-01-02|    1|2023|          drinks|       117|            1.0|                 1.0|\n",
      "|  Morrisons|2023-01-07|    1|2023|          drinks|       154|            1.0|                 1.0|\n",
      "|  Morrisons|2023-01-25|    1|2023|      fresh_food|       129|            1.0|                 3.0|\n",
      "|       Aldi|2023-01-16|    1|2023|          bakery|        12|            4.0|                 0.0|\n",
      "|       Aldi|2023-01-06|    1|2023|       free-from|         5|            4.0|                10.0|\n",
      "|      Sains|2023-01-16|    1|2023|       free-from|       186|            2.0|                10.0|\n",
      "|      Sains|2023-01-22|    1|2023| health_products|       373|            2.0|                 5.0|\n",
      "|      Sains|2023-01-18|    1|2023|          bakery|        25|            2.0|                 0.0|\n",
      "|       ASDA|2023-01-02|    1|2023|          drinks|       162|            0.0|                 1.0|\n",
      "|       ASDA|2023-01-12|    1|2023|          drinks|       166|            0.0|                 1.0|\n",
      "|       ASDA|2023-01-02|    1|2023|            pets|        33|            0.0|                 7.0|\n",
      "|       ASDA|2023-01-15|    1|2023|          frozen|        33|            0.0|                 4.0|\n",
      "|       ASDA|2023-01-07|    1|2023|          frozen|        36|            0.0|                 4.0|\n",
      "|      Tesco|2023-01-02|    1|2023|   baby_products|        52|            3.0|                 8.0|\n",
      "|      Tesco|2023-01-28|    1|2023|   baby_products|        49|            3.0|                 8.0|\n",
      "|  Morrisons|2023-01-01|    1|2023|   baby_products|        34|            1.0|                 8.0|\n",
      "+-----------+----------+-----+----+----------------+----------+---------------+--------------------+\n",
      "only showing top 20 rows\n",
      "\n"
     ]
    }
   ],
   "source": [
    "#StringIndexerForCategoricalValues\n",
    "\n",
    "from pyspark.ml.feature import StringIndexer\n",
    "\n",
    "indexer = StringIndexer(inputCol='supermarket', outputCol='supermarket_cat')\n",
    "indexed = indexer.fit(df).transform(df)\n",
    "\n",
    "indexer = StringIndexer(inputCol='product_category',outputCol='product_category_cat')\n",
    "indexed = indexer.fit(indexed).transform(indexed)\n",
    "\n",
    "indexed.show()"
   ]
  },
  {
   "cell_type": "code",
   "execution_count": 7,
   "metadata": {
    "id": "jK8-EGFnL4Tb"
   },
   "outputs": [],
   "source": [
    "from pyspark.sql.functions import dayofmonth\n",
    "df_1 = indexed.withColumn('day', dayofmonth('date'))"
   ]
  },
  {
   "cell_type": "code",
   "execution_count": 8,
   "metadata": {
    "colab": {
     "base_uri": "https://localhost:8080/"
    },
    "id": "93GpUcc0OI0C",
    "outputId": "6554004c-491d-4ad2-d6fb-dad817a4c2c4"
   },
   "outputs": [
    {
     "name": "stdout",
     "output_type": "stream",
     "text": [
      "+-----------+----------+-----+----+----------------+----------+---------------+--------------------+---+\n",
      "|supermarket|      date|month|year|product_category|item_count|supermarket_cat|product_category_cat|day|\n",
      "+-----------+----------+-----+----+----------------+----------+---------------+--------------------+---+\n",
      "|      Sains|2023-01-18|    1|2023| health_products|       332|            2.0|                 5.0| 18|\n",
      "|      Sains|2023-01-26|    1|2023|   food_cupboard|       323|            2.0|                 2.0| 26|\n",
      "|      Sains|2023-01-28|    1|2023|   baby_products|        39|            2.0|                 8.0| 28|\n",
      "|      Tesco|2023-01-12|    1|2023|          frozen|        47|            3.0|                 4.0| 12|\n",
      "|  Morrisons|2023-01-02|    1|2023|          drinks|       117|            1.0|                 1.0|  2|\n",
      "|  Morrisons|2023-01-07|    1|2023|          drinks|       154|            1.0|                 1.0|  7|\n",
      "|  Morrisons|2023-01-25|    1|2023|      fresh_food|       129|            1.0|                 3.0| 25|\n",
      "|       Aldi|2023-01-16|    1|2023|          bakery|        12|            4.0|                 0.0| 16|\n",
      "|       Aldi|2023-01-06|    1|2023|       free-from|         5|            4.0|                10.0|  6|\n",
      "|      Sains|2023-01-16|    1|2023|       free-from|       186|            2.0|                10.0| 16|\n",
      "|      Sains|2023-01-22|    1|2023| health_products|       373|            2.0|                 5.0| 22|\n",
      "|      Sains|2023-01-18|    1|2023|          bakery|        25|            2.0|                 0.0| 18|\n",
      "|       ASDA|2023-01-02|    1|2023|          drinks|       162|            0.0|                 1.0|  2|\n",
      "|       ASDA|2023-01-12|    1|2023|          drinks|       166|            0.0|                 1.0| 12|\n",
      "|       ASDA|2023-01-02|    1|2023|            pets|        33|            0.0|                 7.0|  2|\n",
      "|       ASDA|2023-01-15|    1|2023|          frozen|        33|            0.0|                 4.0| 15|\n",
      "|       ASDA|2023-01-07|    1|2023|          frozen|        36|            0.0|                 4.0|  7|\n",
      "|      Tesco|2023-01-02|    1|2023|   baby_products|        52|            3.0|                 8.0|  2|\n",
      "|      Tesco|2023-01-28|    1|2023|   baby_products|        49|            3.0|                 8.0| 28|\n",
      "|  Morrisons|2023-01-01|    1|2023|   baby_products|        34|            1.0|                 8.0|  1|\n",
      "+-----------+----------+-----+----+----------------+----------+---------------+--------------------+---+\n",
      "only showing top 20 rows\n",
      "\n"
     ]
    }
   ],
   "source": [
    "df_1.show()"
   ]
  },
  {
   "cell_type": "code",
   "execution_count": 9,
   "metadata": {
    "id": "TBu75flcqdBV"
   },
   "outputs": [],
   "source": [
    "_df = df_1.select('month','item_count','supermarket_cat','product_category_cat','day')"
   ]
  },
  {
   "cell_type": "code",
   "execution_count": 10,
   "metadata": {
    "colab": {
     "base_uri": "https://localhost:8080/"
    },
    "id": "pg2t-agulaJb",
    "outputId": "2e3b0ed5-3437-4682-8a89-600c031ad863"
   },
   "outputs": [
    {
     "name": "stdout",
     "output_type": "stream",
     "text": [
      "+-----+----------+---------------+--------------------+---+\n",
      "|month|item_count|supermarket_cat|product_category_cat|day|\n",
      "+-----+----------+---------------+--------------------+---+\n",
      "|    1|       332|            2.0|                 5.0| 18|\n",
      "|    1|       323|            2.0|                 2.0| 26|\n",
      "|    1|        39|            2.0|                 8.0| 28|\n",
      "|    1|        47|            3.0|                 4.0| 12|\n",
      "+-----+----------+---------------+--------------------+---+\n",
      "only showing top 4 rows\n",
      "\n"
     ]
    }
   ],
   "source": [
    "_df.show(4)"
   ]
  },
  {
   "cell_type": "code",
   "execution_count": 11,
   "metadata": {
    "id": "xqxj49FBlOAM"
   },
   "outputs": [],
   "source": [
    "#creating vector space\n",
    "from pyspark.ml.linalg import Vector\n",
    "from pyspark.ml.feature import VectorAssembler\n",
    "\n",
    "assembler = VectorAssembler(\n",
    "    inputCols=['month','day','supermarket_cat', 'product_category_cat'], outputCol='feature_vectors')\n",
    "\n",
    "sv_df = assembler.transform(_df)"
   ]
  },
  {
   "cell_type": "code",
   "execution_count": 12,
   "metadata": {
    "colab": {
     "base_uri": "https://localhost:8080/"
    },
    "id": "Pcc_dzAUlo9-",
    "outputId": "8736c172-06dd-400e-d7a1-fdbd13c87e77"
   },
   "outputs": [
    {
     "name": "stdout",
     "output_type": "stream",
     "text": [
      "+-----+----------+---------------+--------------------+---+-------------------+\n",
      "|month|item_count|supermarket_cat|product_category_cat|day|    feature_vectors|\n",
      "+-----+----------+---------------+--------------------+---+-------------------+\n",
      "|    1|       332|            2.0|                 5.0| 18| [1.0,18.0,2.0,5.0]|\n",
      "|    1|       323|            2.0|                 2.0| 26| [1.0,26.0,2.0,2.0]|\n",
      "|    1|        39|            2.0|                 8.0| 28| [1.0,28.0,2.0,8.0]|\n",
      "|    1|        47|            3.0|                 4.0| 12| [1.0,12.0,3.0,4.0]|\n",
      "|    1|       117|            1.0|                 1.0|  2|  [1.0,2.0,1.0,1.0]|\n",
      "|    1|       154|            1.0|                 1.0|  7|  [1.0,7.0,1.0,1.0]|\n",
      "|    1|       129|            1.0|                 3.0| 25| [1.0,25.0,1.0,3.0]|\n",
      "|    1|        12|            4.0|                 0.0| 16| [1.0,16.0,4.0,0.0]|\n",
      "|    1|         5|            4.0|                10.0|  6| [1.0,6.0,4.0,10.0]|\n",
      "|    1|       186|            2.0|                10.0| 16|[1.0,16.0,2.0,10.0]|\n",
      "|    1|       373|            2.0|                 5.0| 22| [1.0,22.0,2.0,5.0]|\n",
      "|    1|        25|            2.0|                 0.0| 18| [1.0,18.0,2.0,0.0]|\n",
      "|    1|       162|            0.0|                 1.0|  2|  [1.0,2.0,0.0,1.0]|\n",
      "|    1|       166|            0.0|                 1.0| 12| [1.0,12.0,0.0,1.0]|\n",
      "|    1|        33|            0.0|                 7.0|  2|  [1.0,2.0,0.0,7.0]|\n",
      "|    1|        33|            0.0|                 4.0| 15| [1.0,15.0,0.0,4.0]|\n",
      "|    1|        36|            0.0|                 4.0|  7|  [1.0,7.0,0.0,4.0]|\n",
      "|    1|        52|            3.0|                 8.0|  2|  [1.0,2.0,3.0,8.0]|\n",
      "|    1|        49|            3.0|                 8.0| 28| [1.0,28.0,3.0,8.0]|\n",
      "|    1|        34|            1.0|                 8.0|  1|  [1.0,1.0,1.0,8.0]|\n",
      "+-----+----------+---------------+--------------------+---+-------------------+\n",
      "only showing top 20 rows\n",
      "\n"
     ]
    }
   ],
   "source": [
    "sv_df.show()"
   ]
  },
  {
   "cell_type": "code",
   "execution_count": 13,
   "metadata": {
    "id": "ovsFWROMPyXe"
   },
   "outputs": [],
   "source": [
    "final_data = sv_df.select('feature_vectors', 'item_count')"
   ]
  },
  {
   "cell_type": "code",
   "execution_count": 14,
   "metadata": {
    "colab": {
     "base_uri": "https://localhost:8080/"
    },
    "id": "zIcHMRKsmRh5",
    "outputId": "d0466605-1a2d-446f-da57-5f828b84380a"
   },
   "outputs": [
    {
     "name": "stdout",
     "output_type": "stream",
     "text": [
      "+------------------+----------+\n",
      "|   feature_vectors|item_count|\n",
      "+------------------+----------+\n",
      "|[1.0,18.0,2.0,5.0]|       332|\n",
      "|[1.0,26.0,2.0,2.0]|       323|\n",
      "|[1.0,28.0,2.0,8.0]|        39|\n",
      "|[1.0,12.0,3.0,4.0]|        47|\n",
      "| [1.0,2.0,1.0,1.0]|       117|\n",
      "+------------------+----------+\n",
      "only showing top 5 rows\n",
      "\n"
     ]
    }
   ],
   "source": [
    "final_data.show(5)"
   ]
  },
  {
   "cell_type": "code",
   "execution_count": 15,
   "metadata": {
    "id": "ncwfl3nB-Vtc"
   },
   "outputs": [],
   "source": [
    "#splitting data\n",
    "train_data, test_data = final_data.randomSplit([.8,.2])"
   ]
  },
  {
   "cell_type": "code",
   "execution_count": null,
   "metadata": {
    "colab": {
     "base_uri": "https://localhost:8080/"
    },
    "id": "bI1q0R5A_sa7",
    "outputId": "eb638bd8-6de6-476b-e4d2-af4318c9ab01"
   },
   "outputs": [
    {
     "name": "stdout",
     "output_type": "stream",
     "text": [
      "+-------+------------------+\n",
      "|summary|        item_count|\n",
      "+-------+------------------+\n",
      "|  count|             13596|\n",
      "|   mean|109.31045895851722|\n",
      "| stddev|  94.7106417871094|\n",
      "|    min|                 1|\n",
      "|    max|               390|\n",
      "+-------+------------------+\n",
      "\n"
     ]
    }
   ],
   "source": [
    "train_data.describe().show()"
   ]
  },
  {
   "cell_type": "code",
   "execution_count": null,
   "metadata": {
    "colab": {
     "base_uri": "https://localhost:8080/"
    },
    "id": "J720m0GM_yHV",
    "outputId": "6eecbecb-bcfd-4431-aa64-4c1bf5d787a0"
   },
   "outputs": [
    {
     "name": "stdout",
     "output_type": "stream",
     "text": [
      "+-------+------------------+\n",
      "|summary|        item_count|\n",
      "+-------+------------------+\n",
      "|  count|              5854|\n",
      "|   mean|109.83976768021866|\n",
      "| stddev|  94.3059549493958|\n",
      "|    min|                 1|\n",
      "|    max|               372|\n",
      "+-------+------------------+\n",
      "\n"
     ]
    }
   ],
   "source": [
    "test_data.describe().show()"
   ]
  },
  {
   "cell_type": "code",
   "execution_count": 16,
   "metadata": {
    "id": "o-hgrCLrjvNi"
   },
   "outputs": [],
   "source": [
    "from pyspark.ml.regression import DecisionTreeRegressor\n",
    "dt = DecisionTreeRegressor(featuresCol='feature_vectors', labelCol='item_count',maxDepth = 6)\n",
    "model = dt.fit(train_data)"
   ]
  },
  {
   "cell_type": "code",
   "execution_count": null,
   "metadata": {
    "id": "ot_Y4G-rLf9j"
   },
   "outputs": [],
   "source": [
    "model_eval = model.evaluate(train_data)\n",
    "print(f'r2 error: {model_eval.r2}')\n",
    "print(f'MeanSquaredError: {model_eval.meanSquaredError}')\n",
    "print(f'MeanAbsoluteError: {model_eval.meanAbsoluteError}')"
   ]
  },
  {
   "cell_type": "code",
   "execution_count": 17,
   "metadata": {
    "colab": {
     "base_uri": "https://localhost:8080/"
    },
    "id": "mKeE5nD1MEkx",
    "outputId": "0c469978-267c-4fb4-f6d0-e3952a9ad6be"
   },
   "outputs": [
    {
     "name": "stdout",
     "output_type": "stream",
     "text": [
      "+------------------+------------------+\n",
      "|   feature_vectors|        prediction|\n",
      "+------------------+------------------+\n",
      "| [1.0,1.0,0.0,2.0]| 304.8434782608696|\n",
      "|[1.0,1.0,0.0,10.0]|              45.5|\n",
      "| [1.0,1.0,1.0,2.0]|235.49802371541503|\n",
      "|[1.0,1.0,1.0,10.0]| 20.12568306010929|\n",
      "| [1.0,1.0,2.0,1.0]|152.95238095238096|\n",
      "| [1.0,1.0,2.0,3.0]|208.90136054421768|\n",
      "| [1.0,1.0,3.0,0.0]|              32.0|\n",
      "| [1.0,1.0,4.0,1.0]|              38.0|\n",
      "| [1.0,1.0,4.0,3.0]|              83.0|\n",
      "| [1.0,1.0,4.0,6.0]|              15.5|\n",
      "| [1.0,2.0,0.0,0.0]|44.911764705882355|\n",
      "| [1.0,2.0,0.0,5.0]|247.13636363636363|\n",
      "| [1.0,2.0,0.0,9.0]| 215.3978102189781|\n",
      "| [1.0,2.0,1.0,8.0]| 36.51724137931034|\n",
      "|[1.0,2.0,1.0,10.0]| 20.12568306010929|\n",
      "| [1.0,2.0,3.0,1.0]|162.65612648221344|\n",
      "| [1.0,2.0,3.0,4.0]| 50.32795698924731|\n",
      "| [1.0,2.0,3.0,9.0]|212.58823529411765|\n",
      "| [1.0,2.0,4.0,3.0]| 97.55384615384615|\n",
      "| [1.0,3.0,0.0,8.0]| 44.43666666666667|\n",
      "+------------------+------------------+\n",
      "only showing top 20 rows\n",
      "\n"
     ]
    }
   ],
   "source": [
    "#making prediction\n",
    "\n",
    "pred = model.transform(test_data.select('feature_vectors'))\n",
    "pred.show()"
   ]
  },
  {
   "cell_type": "code",
   "execution_count": 18,
   "metadata": {
    "id": "1x_M_bvXNSKA"
   },
   "outputs": [],
   "source": [
    "pred = pred.toPandas()\n",
    "actual = test_data.toPandas()"
   ]
  },
  {
   "cell_type": "code",
   "execution_count": 19,
   "metadata": {
    "id": "VRL9Fyz2Oqee"
   },
   "outputs": [],
   "source": [
    "pred['actual'] =  actual['item_count']"
   ]
  },
  {
   "cell_type": "code",
   "execution_count": 23,
   "metadata": {
    "colab": {
     "base_uri": "https://localhost:8080/",
     "height": 539
    },
    "id": "ttaiIjgEOEXy",
    "outputId": "213d0f9c-d234-4ea7-c413-f850ef3fb645"
   },
   "outputs": [
    {
     "data": {
      "image/png": "[encoded data removed]",
      "text/plain": [
       "<Figure size 800x600 with 1 Axes>"
      ]
     },
     "metadata": {},
     "output_type": "display_data"
    }
   ],
   "source": [
    "import seaborn as sns\n",
    "import matplotlib.pyplot as plt\n",
    "\n",
    "\n",
    "plt.figure(figsize = (8,6))\n",
    "sns.set_style('darkgrid')\n",
    "sns.set_context('talk')\n",
    "\n",
    "sns.lineplot(x = 'item_count', y = 'item_count', data = actual, color = 'red', label = 'actual_item_counts')\n",
    "sns.scatterplot(x = 'actual', y = 'prediction', data = pred, marker = '.',label = 'predicted__item_counts')\n",
    "plt.legend()\n",
    "plt.xlabel('')\n",
    "plt.ylabel('')\n",
    "\n",
    "plt.show()"
   ]
  },
  {
   "cell_type": "markdown",
   "metadata": {
    "id": "9ZVGcx_8Qhp6"
   },
   "source": [
    "Ref:\n",
    "https://www.projectpro.io/hadoop-tutorial/pyspark-machine-learning-tutorial\n",
    "\n",
    "https://www.analyticsvidhya.com/blog/2022/09/machine-learning-pipeline-in-pyspark/\n"
   ]
  },
  {
   "cell_type": "code",
   "execution_count": null,
   "metadata": {
    "colab": {
     "base_uri": "https://localhost:8080/"
    },
    "id": "4j4AuAt_LlOG",
    "outputId": "c7d029db-b8c1-41ff-8dee-726583854e64"
   },
   "outputs": [
    {
     "name": "stdout",
     "output_type": "stream",
     "text": [
      "+-----------+---+\n",
      "|date_column|day|\n",
      "+-----------+---+\n",
      "| 2024-04-23| 23|\n",
      "| 2024-05-15| 15|\n",
      "| 2024-06-07|  7|\n",
      "+-----------+---+\n",
      "\n"
     ]
    }
   ],
   "source": [
    "from pyspark.sql import SparkSession\n",
    "from pyspark.sql.functions import dayofmonth\n",
    "\n",
    "# Create a SparkSession\n",
    "spark = SparkSession.builder \\\n",
    "    .appName(\"Extract Day from Date Column\") \\\n",
    "    .getOrCreate()\n",
    "\n",
    "# Assuming you have a DataFrame named 'df' with a column 'date_column' containing dates\n",
    "# You can use the dayofmonth function to extract the day\n",
    "df = spark.createDataFrame([('2024-04-23',), ('2024-05-15',), ('2024-06-07',)], ['date_column'])\n",
    "df = df.withColumn('day', dayofmonth('date_column'))\n",
    "\n",
    "# Show the DataFrame\n",
    "df.show()"
   ]
  }
 ],
 "metadata": {
  "colab": {
   "provenance": []
  },
  "kernelspec": {
   "display_name": "Python 3",
   "language": "python",
   "name": "python3"
  },
  "language_info": {
   "codemirror_mode": {
    "name": "ipython",
    "version": 3
   },
   "file_extension": ".py",
   "mimetype": "text/x-python",
   "name": "python",
   "nbconvert_exporter": "python",
   "pygments_lexer": "ipython3",
   "version": "3.6.7"
  },
  "toc": {
   "base_numbering": 1,
   "nav_menu": {},
   "number_sections": true,
   "sideBar": true,
   "skip_h1_title": false,
   "title_cell": "Table of Contents",
   "title_sidebar": "Contents",
   "toc_cell": false,
   "toc_position": {},
   "toc_section_display": true,
   "toc_window_display": false
  }
 },
 "nbformat": 4,
 "nbformat_minor": 1
}
