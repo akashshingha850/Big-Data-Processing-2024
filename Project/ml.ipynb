{
 "cells": [
  {
   "cell_type": "code",
   "execution_count": 1,
   "metadata": {
    "ExecuteTime": {
     "end_time": "2024-04-20T21:00:38.543404Z",
     "start_time": "2024-04-20T21:00:36.077586Z"
    }
   },
   "outputs": [],
   "source": [
    "from pyspark.sql import SparkSession\n",
    "from pyspark import SparkFiles\n",
    "from pyspark.sql.functions import col , lag\n",
    "from pyspark.sql.types import *\n",
    "import pandas as pd\n",
    "import matplotlib.pyplot as plt"
   ]
  },
  {
   "cell_type": "code",
   "execution_count": 2,
   "metadata": {
    "ExecuteTime": {
     "end_time": "2024-04-20T21:00:40.039723Z",
     "start_time": "2024-04-20T21:00:39.873037Z"
    }
   },
   "outputs": [],
   "source": [
    "from pyspark.sql.window import Window\n",
    "from pyspark.ml.feature import VectorAssembler\n",
    "from pyspark.ml.regression import RandomForestRegressor\n",
    "from pyspark.ml.evaluation import RegressionEvaluator"
   ]
  },
  {
   "cell_type": "code",
   "execution_count": 3,
   "metadata": {
    "ExecuteTime": {
     "end_time": "2024-04-20T21:00:54.673111Z",
     "start_time": "2024-04-20T21:00:43.302792Z"
    }
   },
   "outputs": [],
   "source": [
    "spark = SparkSession.builder \\\n",
    ".master(\"local\") \\\n",
    ".appName(\"ml_v2\") \\\n",
    ".getOrCreate()"
   ]
  },
  {
   "cell_type": "code",
   "execution_count": 7,
   "metadata": {
    "ExecuteTime": {
     "end_time": "2024-04-20T21:02:06.196031Z",
     "start_time": "2024-04-20T21:01:33.316693Z"
    }
   },
   "outputs": [],
   "source": [
    "df = spark.read.csv('/mnt/group-14-pvc/processed_data', header = True, inferSchema = True)"
   ]
  },
  {
   "cell_type": "code",
   "execution_count": 37,
   "metadata": {
    "ExecuteTime": {
     "end_time": "2024-04-22T21:29:45.800767Z",
     "start_time": "2024-04-22T21:29:45.746707Z"
    }
   },
   "outputs": [],
   "source": [
    "df.createOrReplaceTempView(\"df\")"
   ]
  },
  {
   "cell_type": "code",
   "execution_count": 19,
   "metadata": {
    "ExecuteTime": {
     "end_time": "2024-04-20T21:17:47.767394Z",
     "start_time": "2024-04-20T21:17:47.462665Z"
    }
   },
   "outputs": [],
   "source": [
    "sql_query = \"\"\"\n",
    "    SELECT \n",
    "        supermarket, \n",
    "        product_category,\n",
    "        MONTH(date) as month, \n",
    "        YEAR(date) as year,\n",
    "        city,\n",
    "        SUM(price) as sales\n",
    "    FROM df\n",
    "    GROUP BY \n",
    "        YEAR(date),\n",
    "        MONTH(date),\n",
    "        city,\n",
    "        product_category,\n",
    "        supermarket\n",
    "    ORDER BY\n",
    "        YEAR(date),\n",
    "        MONTH(date)\n",
    "\"\"\"\n",
    "\n",
    "agg_df = spark.sql(sql_query)"
   ]
  },
  {
   "cell_type": "code",
   "execution_count": 25,
   "metadata": {
    "ExecuteTime": {
     "end_time": "2024-04-20T21:21:54.583627Z",
     "start_time": "2024-04-20T21:21:36.207478Z"
    }
   },
   "outputs": [
    {
     "name": "stdout",
     "output_type": "stream",
     "text": [
      "+-----------+----------------+-----+----+-----------+------------------+\n",
      "|supermarket|product_category|month|year|       city|             sales|\n",
      "+-----------+----------------+-----+----+-----------+------------------+\n",
      "|      Sains|            pets|    1|2023|     Bangor|199.30000000000004|\n",
      "|       ASDA|   food_cupboard|    1|2023|Southampton| 296.4899999999999|\n",
      "|      Sains|            pets|    1|2023|    Swansea|145.35000000000002|\n",
      "|      Sains|          drinks|    1|2023|  Lancaster|            590.05|\n",
      "|       ASDA|      fresh_food|    1|2023|     Bangor| 631.0299999999997|\n",
      "+-----------+----------------+-----+----+-----------+------------------+\n",
      "only showing top 5 rows\n",
      "\n"
     ]
    }
   ],
   "source": [
    "agg_df.show(5)"
   ]
  },
  {
   "cell_type": "code",
   "execution_count": 21,
   "metadata": {
    "ExecuteTime": {
     "end_time": "2024-04-20T21:19:42.901951Z",
     "start_time": "2024-04-20T21:19:11.137769Z"
    }
   },
   "outputs": [],
   "source": [
    "output_path = '/mnt/group-14-pvc/processed_data/agg_data'\n",
    "agg_df.write.csv(output_path, header=True, mode=\"overwrite\")"
   ]
  },
  {
   "cell_type": "code",
   "execution_count": 22,
   "metadata": {
    "ExecuteTime": {
     "end_time": "2024-04-20T21:20:24.729431Z",
     "start_time": "2024-04-20T21:20:22.995250Z"
    }
   },
   "outputs": [],
   "source": [
    "snapshot_df = spark.read.csv('/mnt/group-14-pvc/processed_data/agg_data', header = True, inferSchema = True)"
   ]
  },
  {
   "cell_type": "code",
   "execution_count": 29,
   "metadata": {
    "ExecuteTime": {
     "end_time": "2024-04-21T10:17:54.155456Z",
     "start_time": "2024-04-21T10:17:23.358549Z"
    }
   },
   "outputs": [],
   "source": [
    "p_df = agg_df.toPandas()"
   ]
  },
  {
   "cell_type": "code",
   "execution_count": 31,
   "metadata": {
    "ExecuteTime": {
     "end_time": "2024-04-21T10:19:51.590208Z",
     "start_time": "2024-04-21T10:19:51.199199Z"
    }
   },
   "outputs": [],
   "source": [
    "p_df.to_csv('agg_csv.csv',header = True, index = False)"
   ]
  },
  {
   "cell_type": "code",
   "execution_count": 32,
   "metadata": {
    "ExecuteTime": {
     "end_time": "2024-04-21T12:48:00.193549Z",
     "start_time": "2024-04-21T12:48:00.126394Z"
    }
   },
   "outputs": [],
   "source": [
    "sql_query = \"\"\"\n",
    "    SELECT \n",
    "        supermarket, \n",
    "        MONTH(date) as month, \n",
    "        YEAR(date) as year,\n",
    "        product_category,\n",
    "        city,\n",
    "        SUM(price) as sales\n",
    "    FROM df\n",
    "    GROUP BY \n",
    "        YEAR(date),\n",
    "        MONTH(date),\n",
    "        city,\n",
    "        supermarket\n",
    "    ORDER BY\n",
    "        YEAR(date),\n",
    "        MONTH(date)\n",
    "\"\"\"\n",
    "\n",
    "df_3 = spark.sql(sql_query)"
   ]
  },
  {
   "cell_type": "code",
   "execution_count": 33,
   "metadata": {
    "ExecuteTime": {
     "end_time": "2024-04-21T12:48:31.588690Z",
     "start_time": "2024-04-21T12:48:10.675340Z"
    }
   },
   "outputs": [
    {
     "name": "stdout",
     "output_type": "stream",
     "text": [
      "+-----------+-----+----+--------------+------------------+\n",
      "|supermarket|month|year|          city|             sales|\n",
      "+-----------+-----+----+--------------+------------------+\n",
      "|      Tesco|    1|2023|    Chelmsford|3046.4399999999973|\n",
      "|       ASDA|    1|2023|         Wells|3805.6999999999953|\n",
      "|       ASDA|    1|2023|        Bangor| 8035.029999999986|\n",
      "|      Sains|    1|2023| Milton Keynes| 3660.599999999998|\n",
      "|       ASDA|    1|2023|         Derby| 3541.369999999998|\n",
      "|       Aldi|    1|2023|    Chelmsford|216.12999999999994|\n",
      "|       ASDA|    1|2023|     Lancaster|3517.5699999999983|\n",
      "|      Sains|    1|2023|     St Albans|3587.0999999999985|\n",
      "|  Morrisons|    1|2023|     Salisbury|1983.6100000000001|\n",
      "|      Tesco|    1|2023|         Newry|2667.1799999999985|\n",
      "|       Aldi|    1|2023|      Aberdeen| 260.4800000000001|\n",
      "|       ASDA|    1|2023|         Leeds|3405.3399999999974|\n",
      "|      Sains|    1|2023|        Durham| 3348.649999999998|\n",
      "|       Aldi|    1|2023|       Cardiff| 248.3100000000001|\n",
      "|      Tesco|    1|2023|      Stirling|3066.2599999999975|\n",
      "|      Tesco|    1|2023|    Manchester| 2592.159999999999|\n",
      "|       Aldi|    1|2023|Stoke on Trent|216.36000000000004|\n",
      "|       Aldi|    1|2023|          York|228.28000000000003|\n",
      "|       Aldi|    1|2023|    Chichester|242.72999999999996|\n",
      "|      Tesco|    1|2023|   Westminster|2964.8599999999997|\n",
      "+-----------+-----+----+--------------+------------------+\n",
      "only showing top 20 rows\n",
      "\n"
     ]
    }
   ],
   "source": [
    "df_3.show()"
   ]
  },
  {
   "cell_type": "code",
   "execution_count": 34,
   "metadata": {
    "ExecuteTime": {
     "end_time": "2024-04-21T12:49:11.011353Z",
     "start_time": "2024-04-21T12:48:43.889650Z"
    }
   },
   "outputs": [
    {
     "data": {
      "text/plain": [
       "4500"
      ]
     },
     "execution_count": 34,
     "metadata": {},
     "output_type": "execute_result"
    }
   ],
   "source": [
    "df_3.count()"
   ]
  },
  {
   "cell_type": "code",
   "execution_count": 35,
   "metadata": {
    "ExecuteTime": {
     "end_time": "2024-04-21T12:50:31.884072Z",
     "start_time": "2024-04-21T12:50:07.906875Z"
    }
   },
   "outputs": [],
   "source": [
    "df_3 = df_3.toPandas()"
   ]
  },
  {
   "cell_type": "code",
   "execution_count": 36,
   "metadata": {
    "ExecuteTime": {
     "end_time": "2024-04-21T12:50:35.074670Z",
     "start_time": "2024-04-21T12:50:35.009589Z"
    }
   },
   "outputs": [],
   "source": [
    "df_3.to_csv('df_3_csv.csv',header = True, index = False)"
   ]
  },
  {
   "cell_type": "code",
   "execution_count": 66,
   "metadata": {
    "ExecuteTime": {
     "end_time": "2024-04-23T13:24:07.852087Z",
     "start_time": "2024-04-23T13:24:07.805545Z"
    }
   },
   "outputs": [],
   "source": [
    "sql_query = \"\"\"\n",
    "    SELECT \n",
    "        supermarket, \n",
    "        date,\n",
    "        MONTH(date) as month, \n",
    "        YEAR(date) as year,\n",
    "        product_category,\n",
    "        COUNT(product_category) as item_count\n",
    "    FROM df\n",
    "    GROUP BY \n",
    "        supermarket, \n",
    "        date,\n",
    "        MONTH(date), \n",
    "        YEAR(date),\n",
    "        product_category       \n",
    "    ORDER BY\n",
    "        YEAR(date),\n",
    "        MONTH(date)\n",
    "\"\"\"\n",
    "\n",
    "test_df = spark.sql(sql_query)"
   ]
  },
  {
   "cell_type": "code",
   "execution_count": 71,
   "metadata": {
    "ExecuteTime": {
     "end_time": "2024-05-02T19:03:02.483150Z",
     "start_time": "2024-05-02T19:02:43.459849Z"
    }
   },
   "outputs": [
    {
     "name": "stdout",
     "output_type": "stream",
     "text": [
      "+-----------+-------------------+-----+----+----------------+----------+\n",
      "|supermarket|               date|month|year|product_category|item_count|\n",
      "+-----------+-------------------+-----+----+----------------+----------+\n",
      "|       ASDA|2023-01-02 00:00:00|    1|2023|          drinks|       162|\n",
      "|      Sains|2023-01-26 00:00:00|    1|2023|   food_cupboard|       323|\n",
      "|      Sains|2023-01-28 00:00:00|    1|2023|   baby_products|        39|\n",
      "|      Tesco|2023-01-12 00:00:00|    1|2023|          frozen|        47|\n",
      "|      Sains|2023-01-18 00:00:00|    1|2023| health_products|       332|\n",
      "|  Morrisons|2023-01-07 00:00:00|    1|2023|          drinks|       154|\n",
      "|  Morrisons|2023-01-25 00:00:00|    1|2023|      fresh_food|       129|\n",
      "|       Aldi|2023-01-16 00:00:00|    1|2023|          bakery|        12|\n",
      "|       Aldi|2023-01-06 00:00:00|    1|2023|       free-from|         5|\n",
      "|  Morrisons|2023-01-02 00:00:00|    1|2023|          drinks|       117|\n",
      "+-----------+-------------------+-----+----+----------------+----------+\n",
      "only showing top 10 rows\n",
      "\n"
     ]
    }
   ],
   "source": [
    "test_df.show(10)"
   ]
  },
  {
   "cell_type": "code",
   "execution_count": 49,
   "metadata": {
    "ExecuteTime": {
     "end_time": "2024-04-22T21:38:34.066805Z",
     "start_time": "2024-04-22T21:38:34.003578Z"
    }
   },
   "outputs": [],
   "source": [
    "test_df.createOrReplaceTempView(\"test_df\")"
   ]
  },
  {
   "cell_type": "code",
   "execution_count": 68,
   "metadata": {
    "ExecuteTime": {
     "end_time": "2024-04-23T13:24:59.116153Z",
     "start_time": "2024-04-23T13:24:34.079346Z"
    }
   },
   "outputs": [
    {
     "data": {
      "text/plain": [
       "19283"
      ]
     },
     "execution_count": 68,
     "metadata": {},
     "output_type": "execute_result"
    }
   ],
   "source": [
    "test_df.count()"
   ]
  },
  {
   "cell_type": "code",
   "execution_count": 69,
   "metadata": {
    "ExecuteTime": {
     "end_time": "2024-04-23T13:26:10.688693Z",
     "start_time": "2024-04-23T13:25:47.605011Z"
    }
   },
   "outputs": [],
   "source": [
    "inventory_data = test_df.toPandas()"
   ]
  },
  {
   "cell_type": "code",
   "execution_count": 70,
   "metadata": {
    "ExecuteTime": {
     "end_time": "2024-04-23T13:26:21.245725Z",
     "start_time": "2024-04-23T13:26:21.046981Z"
    }
   },
   "outputs": [],
   "source": [
    "inventory_data.to_csv('inventory_data.csv',header = True, index = False)"
   ]
  },
  {
   "cell_type": "code",
   "execution_count": null,
   "metadata": {},
   "outputs": [],
   "source": []
  }
 ],
 "metadata": {
  "kernelspec": {
   "display_name": "Python 3",
   "language": "python",
   "name": "python3"
  },
  "language_info": {
   "codemirror_mode": {
    "name": "ipython",
    "version": 3
   },
   "file_extension": ".py",
   "mimetype": "text/x-python",
   "name": "python",
   "nbconvert_exporter": "python",
   "pygments_lexer": "ipython3",
   "version": "3.6.7"
  },
  "toc": {
   "base_numbering": 1,
   "nav_menu": {},
   "number_sections": true,
   "sideBar": true,
   "skip_h1_title": false,
   "title_cell": "Table of Contents",
   "title_sidebar": "Contents",
   "toc_cell": false,
   "toc_position": {},
   "toc_section_display": true,
   "toc_window_display": false
  }
 },
 "nbformat": 4,
 "nbformat_minor": 2
}
