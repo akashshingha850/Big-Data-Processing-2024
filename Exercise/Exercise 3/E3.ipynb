{
 "cells": [
  {
   "cell_type": "code",
   "execution_count": 8,
   "id": "eee1bcd5-2751-42ac-8458-29a90b129072",
   "metadata": {},
   "outputs": [],
   "source": [
    "import pandas as pd\n",
    "import numpy as np\n",
    "import time\n",
    "import matplotlib.pyplot as plt\n",
    "import sys\n",
    "import seaborn\n",
    "from scipy.stats import *\n",
    "from pyspark.sql import SparkSession\n",
    "from pyspark.ml.feature import StringIndexer, VectorIndexer, VectorAssembler, IndexToString\n",
    "from pyspark.ml.regression import GBTRegressor\n",
    "from pyspark.ml.classification import RandomForestClassifier\n",
    "from pyspark.ml.evaluation import RegressionEvaluator\n",
    "from pyspark.ml import Pipeline"
   ]
  },
  {
   "cell_type": "code",
   "execution_count": 9,
   "id": "f0fbb763-dd74-469e-8690-6a2fc6c27ddd",
   "metadata": {},
   "outputs": [],
   "source": [
    "spark = SparkSession.builder \\\n",
    ".master(\"local\") \\\n",
    ".appName(\"Exercise3\")\\\n",
    ".getOrCreate()"
   ]
  },
  {
   "cell_type": "code",
   "execution_count": 10,
   "id": "4857679b-6c63-4e2e-a3e5-f15ebbabe0a6",
   "metadata": {},
   "outputs": [],
   "source": [
    "df = spark.read.csv('exampleData.csv', header=True)"
   ]
  },
  {
   "cell_type": "code",
   "execution_count": 11,
   "id": "c5f113d8-072b-4d5f-8fb6-e33d59396cf3",
   "metadata": {},
   "outputs": [
    {
     "data": {
      "text/plain": [
       "StructType(List(StructField(_c0,StringType,true),StructField(dateTime,StringType,true),StructField(indicator_rain,StringType,true),StructField(precipitation,StringType,true),StructField(indicator_temp,StringType,true),StructField(air_temperature,StringType,true),StructField(indicator_wetb,StringType,true),StructField(wetb,StringType,true),StructField(dewpt,StringType,true),StructField(vappr,StringType,true),StructField(relative_humidity,StringType,true),StructField(msl,StringType,true),StructField(indicator_wdsp,StringType,true),StructField(wind_speed,StringType,true),StructField(indicator_wddir,StringType,true),StructField(wind_from_direction,StringType,true)))"
      ]
     },
     "execution_count": 11,
     "metadata": {},
     "output_type": "execute_result"
    }
   ],
   "source": [
    "df.schema"
   ]
  },
  {
   "cell_type": "code",
   "execution_count": 12,
   "id": "a53ad1d4-e1ea-4690-99fd-2c6568cbf29d",
   "metadata": {},
   "outputs": [
    {
     "data": {
      "text/plain": [
       "[('_c0', 'string'),\n",
       " ('dateTime', 'string'),\n",
       " ('indicator_rain', 'string'),\n",
       " ('precipitation', 'string'),\n",
       " ('indicator_temp', 'string'),\n",
       " ('air_temperature', 'string'),\n",
       " ('indicator_wetb', 'string'),\n",
       " ('wetb', 'string'),\n",
       " ('dewpt', 'string'),\n",
       " ('vappr', 'string'),\n",
       " ('relative_humidity', 'string'),\n",
       " ('msl', 'string'),\n",
       " ('indicator_wdsp', 'string'),\n",
       " ('wind_speed', 'string'),\n",
       " ('indicator_wddir', 'string'),\n",
       " ('wind_from_direction', 'string')]"
      ]
     },
     "execution_count": 12,
     "metadata": {},
     "output_type": "execute_result"
    }
   ],
   "source": [
    "df.dtypes"
   ]
  },
  {
   "cell_type": "code",
   "execution_count": 13,
   "id": "5f5289ec-4224-4541-9e11-23863b23eca7",
   "metadata": {},
   "outputs": [
    {
     "name": "stdout",
     "output_type": "stream",
     "text": [
      "-RECORD 0--------------------------------\n",
      " _c0                 | 14                \n",
      " dateTime            | 01-jan-1990 00:00 \n",
      " indicator_rain      | 0                 \n",
      " precipitation       | 0.3               \n",
      " indicator_temp      | 0                 \n",
      " air_temperature     | 9.1               \n",
      " indicator_wetb      | 0                 \n",
      " wetb                | 9.0               \n",
      " dewpt               | 8.9               \n",
      " vappr               | 11.4              \n",
      " relative_humidity   | 99                \n",
      " msl                 | 1006.7            \n",
      " indicator_wdsp      | 2                 \n",
      " wind_speed          | 7                 \n",
      " indicator_wddir     | 2                 \n",
      " wind_from_direction | 190               \n",
      "only showing top 1 row\n",
      "\n"
     ]
    }
   ],
   "source": [
    "df.show(1, vertical=True)"
   ]
  },
  {
   "cell_type": "markdown",
   "id": "18531284-7052-40a3-9313-1102c9bc40ba",
   "metadata": {},
   "source": [
    "### String Indexer Example"
   ]
  },
  {
   "cell_type": "code",
   "execution_count": 14,
   "id": "237d58e0-3701-48db-a21a-0e03eba9fa06",
   "metadata": {},
   "outputs": [],
   "source": [
    "indexer = StringIndexer(inputCol=\"dateTime\" ,outputCol=\"indexedTime\")"
   ]
  },
  {
   "cell_type": "code",
   "execution_count": 15,
   "id": "0104058d-0311-468d-a0aa-6455fe5f179e",
   "metadata": {},
   "outputs": [],
   "source": [
    "indexed = indexer.fit(df).transform(df) # return a df"
   ]
  },
  {
   "cell_type": "code",
   "execution_count": 16,
   "id": "6eddb034-13b1-47a4-884c-e0c31162f849",
   "metadata": {},
   "outputs": [
    {
     "name": "stdout",
     "output_type": "stream",
     "text": [
      "-RECORD 0--------------------------------\n",
      " _c0                 | 14                \n",
      " dateTime            | 01-jan-1990 00:00 \n",
      " indicator_rain      | 0                 \n",
      " precipitation       | 0.3               \n",
      " indicator_temp      | 0                 \n",
      " air_temperature     | 9.1               \n",
      " indicator_wetb      | 0                 \n",
      " wetb                | 9.0               \n",
      " dewpt               | 8.9               \n",
      " vappr               | 11.4              \n",
      " relative_humidity   | 99                \n",
      " msl                 | 1006.7            \n",
      " indicator_wdsp      | 2                 \n",
      " wind_speed          | 7                 \n",
      " indicator_wddir     | 2                 \n",
      " wind_from_direction | 190               \n",
      " indexedTime         | 2667.0            \n",
      "-RECORD 1--------------------------------\n",
      " _c0                 | 15                \n",
      " dateTime            | 01-jan-1990 01:00 \n",
      " indicator_rain      | 0                 \n",
      " precipitation       | 0.2               \n",
      " indicator_temp      | 0                 \n",
      " air_temperature     | 8.2               \n",
      " indicator_wetb      | 0                 \n",
      " wetb                | 7.4               \n",
      " dewpt               | 6.4               \n",
      " vappr               | 9.7               \n",
      " relative_humidity   | 89                \n",
      " msl                 | 1006.7            \n",
      " indicator_wdsp      | 2                 \n",
      " wind_speed          | 5                 \n",
      " indicator_wddir     | 2                 \n",
      " wind_from_direction | 220               \n",
      " indexedTime         | 2668.0            \n",
      "only showing top 2 rows\n",
      "\n"
     ]
    }
   ],
   "source": [
    "indexed.show(2, vertical=True) "
   ]
  },
  {
   "cell_type": "code",
   "execution_count": 17,
   "id": "322e6c7c-ce20-404c-ac6e-74c6974a05b8",
   "metadata": {},
   "outputs": [
    {
     "data": {
      "text/plain": [
       "[('_c0', 'string'),\n",
       " ('dateTime', 'string'),\n",
       " ('indicator_rain', 'string'),\n",
       " ('precipitation', 'string'),\n",
       " ('indicator_temp', 'string'),\n",
       " ('air_temperature', 'string'),\n",
       " ('indicator_wetb', 'string'),\n",
       " ('wetb', 'string'),\n",
       " ('dewpt', 'string'),\n",
       " ('vappr', 'string'),\n",
       " ('relative_humidity', 'string'),\n",
       " ('msl', 'string'),\n",
       " ('indicator_wdsp', 'string'),\n",
       " ('wind_speed', 'string'),\n",
       " ('indicator_wddir', 'string'),\n",
       " ('wind_from_direction', 'string'),\n",
       " ('indexedTime', 'double')]"
      ]
     },
     "execution_count": 17,
     "metadata": {},
     "output_type": "execute_result"
    }
   ],
   "source": [
    "indexed.dtypes"
   ]
  },
  {
   "cell_type": "markdown",
   "id": "b05d2667-b864-4fea-8ccf-5b414258e7ee",
   "metadata": {},
   "source": [
    "### Task - Predict air_temp from date, humidity, wind speed and msl"
   ]
  },
  {
   "cell_type": "code",
   "execution_count": 18,
   "id": "480288fc-5ce0-4f58-8e60-503b4eac0563",
   "metadata": {},
   "outputs": [],
   "source": [
    "# Parse data type\n",
    "parsed_df = indexed.selectExpr(\"cast(dateTime as string) dateTime\", \n",
    "                          \"cast(relative_humidity as float) relative_humidity\",\n",
    "                          \"cast(wind_speed as float) wind_speed\",\n",
    "                          \"cast(indexedTime as double) indexedTime\",\n",
    "                          \"cast(msl as float) msl\",\n",
    "                          \"cast(air_temperature as float) label\") # df after parsed"
   ]
  },
  {
   "cell_type": "code",
   "execution_count": 19,
   "id": "aa8e976a-c697-40d6-9baf-adfaa19a2f46",
   "metadata": {},
   "outputs": [],
   "source": [
    "# Put all discreted data/features into 1D vector (as 1 column in the df)\n",
    "vectorAssembler = VectorAssembler(inputCols = ['relative_humidity', 'wind_speed', 'indexedTime', 'msl'], handleInvalid=\"skip\",outputCol ='features')"
   ]
  },
  {
   "cell_type": "code",
   "execution_count": 20,
   "id": "c70f1505-0549-4971-b728-3cdba4e875fd",
   "metadata": {},
   "outputs": [],
   "source": [
    "vectorized_df = vectorAssembler.transform(parsed_df)"
   ]
  },
  {
   "cell_type": "code",
   "execution_count": 21,
   "id": "8aa5d528-1d92-4f95-a4ca-058c1415efe9",
   "metadata": {},
   "outputs": [
    {
     "name": "stdout",
     "output_type": "stream",
     "text": [
      "+-----------------+-----------------+----------+-----------+------+-----+--------------------+\n",
      "|         dateTime|relative_humidity|wind_speed|indexedTime|   msl|label|            features|\n",
      "+-----------------+-----------------+----------+-----------+------+-----+--------------------+\n",
      "|01-jan-1990 00:00|             99.0|       7.0|     2667.0|1006.7|  9.1|[99.0,7.0,2667.0,...|\n",
      "+-----------------+-----------------+----------+-----------+------+-----+--------------------+\n",
      "only showing top 1 row\n",
      "\n"
     ]
    }
   ],
   "source": [
    "vectorized_df.show(1)"
   ]
  },
  {
   "cell_type": "code",
   "execution_count": 22,
   "id": "ac0b7cc6-bc99-41de-a32b-e6a213267aa3",
   "metadata": {},
   "outputs": [],
   "source": [
    "dataset = vectorized_df.select(\"features\", \"label\") # remove unnecessary cols"
   ]
  },
  {
   "cell_type": "code",
   "execution_count": 23,
   "id": "ff943dc2-9116-49ec-9148-e443c210a661",
   "metadata": {},
   "outputs": [
    {
     "name": "stdout",
     "output_type": "stream",
     "text": [
      "+--------------------+-----+\n",
      "|            features|label|\n",
      "+--------------------+-----+\n",
      "|[99.0,7.0,2667.0,...|  9.1|\n",
      "+--------------------+-----+\n",
      "only showing top 1 row\n",
      "\n"
     ]
    }
   ],
   "source": [
    "dataset.show(1)"
   ]
  },
  {
   "cell_type": "markdown",
   "id": "f3cb9a93-050f-4f1b-b16f-5942f89b700b",
   "metadata": {},
   "source": [
    "### Model - Gradient-Boosted Trees"
   ]
  },
  {
   "cell_type": "code",
   "execution_count": 24,
   "id": "8739fdab-c12f-413f-9583-e9d436bfa9b9",
   "metadata": {},
   "outputs": [],
   "source": [
    "# Split data\n",
    "(trainData, testData) = dataset.randomSplit([0.8, 0.2])"
   ]
  },
  {
   "cell_type": "code",
   "execution_count": 25,
   "id": "cba1c5eb-e654-4f5f-bcac-f34b50720c2f",
   "metadata": {},
   "outputs": [
    {
     "name": "stdout",
     "output_type": "stream",
     "text": [
      "Train sample: 151492\n",
      "Test sample: 37656\n"
     ]
    }
   ],
   "source": [
    "print(\"Train sample: {}\".format(trainData.count()))\n",
    "print(\"Test sample: {}\".format(testData.count()))"
   ]
  },
  {
   "cell_type": "code",
   "execution_count": 26,
   "id": "471beb50-20f3-4be5-89f3-f34d256c44c8",
   "metadata": {},
   "outputs": [
    {
     "name": "stdout",
     "output_type": "stream",
     "text": [
      "+--------------------+-----+\n",
      "|            features|label|\n",
      "+--------------------+-----+\n",
      "|[0.0,0.0,235855.0...| 20.4|\n",
      "+--------------------+-----+\n",
      "only showing top 1 row\n",
      "\n"
     ]
    }
   ],
   "source": [
    "testData.show(1)"
   ]
  },
  {
   "cell_type": "code",
   "execution_count": 27,
   "id": "d7cc124e-9f34-4af6-9171-0f7645d32e74",
   "metadata": {},
   "outputs": [],
   "source": [
    "#### NORMAL "
   ]
  },
  {
   "cell_type": "code",
   "execution_count": 28,
   "id": "fb2dd0bb-b0d5-417d-a3d3-d712e32de6b2",
   "metadata": {},
   "outputs": [
    {
     "name": "stdout",
     "output_type": "stream",
     "text": [
      "182.0609052181244\n"
     ]
    }
   ],
   "source": [
    "gbt = GBTRegressor(featuresCol=\"features\", maxIter=30, maxDepth = 11)\n",
    "s = time.time()\n",
    "model_direct = gbt.fit(trainData)\n",
    "print(time.time() - s)"
   ]
  },
  {
   "cell_type": "code",
   "execution_count": 29,
   "id": "f769c439-5316-4ae9-88cf-3ff3cd110b16",
   "metadata": {},
   "outputs": [],
   "source": [
    "pred_direct = model_direct.transform(testData)"
   ]
  },
  {
   "cell_type": "code",
   "execution_count": 30,
   "id": "b2b7d8d8-b5e2-44cf-9718-aa16acfc8b7f",
   "metadata": {},
   "outputs": [
    {
     "name": "stdout",
     "output_type": "stream",
     "text": [
      "+--------------------+-----+------------------+\n",
      "|            features|label|        prediction|\n",
      "+--------------------+-----+------------------+\n",
      "|[0.0,0.0,235855.0...| 20.4|16.521116061538837|\n",
      "|[0.0,0.0,235858.0...| 18.5|16.232728165661076|\n",
      "|[0.0,0.0,235862.0...| 13.9|14.792901987882253|\n",
      "|[0.0,1.0,167217.0...|  7.0| 8.345977078478935|\n",
      "|[0.0,1.0,180642.0...| 15.2|15.461789921821767|\n",
      "+--------------------+-----+------------------+\n",
      "only showing top 5 rows\n",
      "\n"
     ]
    }
   ],
   "source": [
    "pred_direct.show(5)"
   ]
  },
  {
   "cell_type": "code",
   "execution_count": 31,
   "id": "ee5db30d-10e5-4e7d-a4c3-849dde204e7c",
   "metadata": {},
   "outputs": [],
   "source": [
    "#### WITH PIPELINE"
   ]
  },
  {
   "cell_type": "code",
   "execution_count": 32,
   "id": "a3ba6723-89c5-446d-aa3a-171051356e87",
   "metadata": {},
   "outputs": [],
   "source": [
    "# Transform step - Index features (if needed)\n",
    "featureIndexer = VectorIndexer(inputCol=\"features\", outputCol=\"indexedFeatures\", handleInvalid=\"skip\").fit(dataset)\n",
    "\n",
    "# Transform step - Index labels (if needed)\n",
    "labelIndexer = StringIndexer(inputCol=\"label\", outputCol=\"indexedLabel\").fit(dataset)\n",
    "\n",
    "# Transform step - Indexed to orginal (if the labels are indexed)\n",
    "labelConverter = IndexToString(inputCol=\"prediction\", outputCol=\"predictedLabel\",labels=labelIndexer.labels)"
   ]
  },
  {
   "cell_type": "code",
   "execution_count": 33,
   "id": "aa6b7995-6b9b-4ab2-829f-1993ec1edf5c",
   "metadata": {},
   "outputs": [],
   "source": [
    "gbt = GBTRegressor(featuresCol=\"indexedFeatures\", maxIter=30, maxDepth = 11)"
   ]
  },
  {
   "cell_type": "code",
   "execution_count": 34,
   "id": "08463305-831a-4189-a3cf-268781b967c1",
   "metadata": {},
   "outputs": [],
   "source": [
    "# No idea what the param meaning?\n",
    "# gbt.explainParam(\"maxIter\") # explain specific param\n",
    "# gbt.explainParams() # explain all params"
   ]
  },
  {
   "cell_type": "code",
   "execution_count": 35,
   "id": "2e5a74c7-d1ab-4c1d-868e-745687446aab",
   "metadata": {},
   "outputs": [],
   "source": [
    "pipeline = Pipeline(stages=[featureIndexer, gbt])\n",
    "# pipeline = Pipeline(stages=[featureIndexer, labelIndexer, gbt])\n",
    "# pipeline = Pipeline(stages=[labelIndexer, featureIndexer, gbt, labelConverter])"
   ]
  },
  {
   "cell_type": "code",
   "execution_count": 36,
   "id": "70af22b7-197f-4d54-986e-d033a1dbbf8b",
   "metadata": {
    "tags": []
   },
   "outputs": [
    {
     "name": "stdout",
     "output_type": "stream",
     "text": [
      "176.48414397239685\n"
     ]
    }
   ],
   "source": [
    "s = time.time()\n",
    "model_gbt = pipeline.fit(trainData)\n",
    "print(time.time() - s)"
   ]
  },
  {
   "cell_type": "code",
   "execution_count": 37,
   "id": "b57d0de2-3896-4f53-b9b7-17579b75f71c",
   "metadata": {
    "tags": []
   },
   "outputs": [],
   "source": [
    "pred = model_gbt.transform(testData) # return a df"
   ]
  },
  {
   "cell_type": "code",
   "execution_count": 38,
   "id": "ee18d9da-b71b-46f0-8b2d-076369c3f9f4",
   "metadata": {},
   "outputs": [
    {
     "name": "stdout",
     "output_type": "stream",
     "text": [
      "+--------------------+-----+--------------------+------------------+\n",
      "|            features|label|     indexedFeatures|        prediction|\n",
      "+--------------------+-----+--------------------+------------------+\n",
      "|[0.0,0.0,235855.0...| 20.4|[0.0,0.0,235855.0...|16.521116061538837|\n",
      "|[0.0,0.0,235858.0...| 18.5|[0.0,0.0,235858.0...|16.232728165661076|\n",
      "|[0.0,0.0,235862.0...| 13.9|[0.0,0.0,235862.0...|14.792901987882253|\n",
      "|[0.0,1.0,167217.0...|  7.0|[0.0,1.0,167217.0...| 8.345977078478935|\n",
      "|[0.0,1.0,180642.0...| 15.2|[0.0,1.0,180642.0...|15.461789921821767|\n",
      "+--------------------+-----+--------------------+------------------+\n",
      "only showing top 5 rows\n",
      "\n"
     ]
    }
   ],
   "source": [
    "pred.show(5)"
   ]
  },
  {
   "cell_type": "markdown",
   "id": "fea692fa-3f67-4f55-96c6-5cf4df3d046f",
   "metadata": {},
   "source": [
    "### Model - Random Forest"
   ]
  },
  {
   "cell_type": "code",
   "execution_count": 39,
   "id": "4ee8a135-f6d8-42eb-9e1d-0b1b1aa547f4",
   "metadata": {},
   "outputs": [],
   "source": [
    "rforest = RandomForestClassifier(labelCol=\"indexedLabel\", featuresCol=\"indexedFeatures\", numTrees=40, maxDepth=7)"
   ]
  },
  {
   "cell_type": "code",
   "execution_count": 40,
   "id": "d01c63b3-f3ae-4ee7-b1c3-1476523a63c3",
   "metadata": {},
   "outputs": [],
   "source": [
    "pipeline = Pipeline(stages=[labelIndexer, featureIndexer, rforest, labelConverter])"
   ]
  },
  {
   "cell_type": "code",
   "execution_count": 41,
   "id": "0038899b-7873-4447-8f58-c3e5ca54fba3",
   "metadata": {},
   "outputs": [
    {
     "name": "stdout",
     "output_type": "stream",
     "text": [
      "28.316558599472046\n"
     ]
    }
   ],
   "source": [
    "s = time.time()\n",
    "model_forest = pipeline.fit(trainData)\n",
    "print(time.time() - s)"
   ]
  },
  {
   "cell_type": "code",
   "execution_count": 42,
   "id": "d14caa9c-ba79-4211-8529-8969f0028368",
   "metadata": {},
   "outputs": [],
   "source": [
    "pred_forest = model_forest.transform(testData).select(\"features\", \"label\", \"predictedLabel\")"
   ]
  },
  {
   "cell_type": "code",
   "execution_count": 43,
   "id": "799fa3da-417f-4081-a217-ce04939da200",
   "metadata": {},
   "outputs": [
    {
     "name": "stdout",
     "output_type": "stream",
     "text": [
      "+--------------------+-----+--------------+\n",
      "|            features|label|predictedLabel|\n",
      "+--------------------+-----+--------------+\n",
      "|[0.0,0.0,235855.0...| 20.4|          15.6|\n",
      "|[0.0,0.0,235858.0...| 18.5|          15.6|\n",
      "|[0.0,0.0,235862.0...| 13.9|          15.6|\n",
      "|[0.0,1.0,167217.0...|  7.0|           4.0|\n",
      "|[0.0,1.0,180642.0...| 15.2|          15.6|\n",
      "|[0.0,1.0,233159.0...| 12.5|          15.6|\n",
      "|[0.0,2.0,180647.0...| 16.0|          15.6|\n",
      "|[0.0,2.0,224943.0...| 11.4|          15.6|\n",
      "|[0.0,2.0,238548.0...|  8.6|          16.6|\n",
      "|[0.0,3.0,6810.0,1...| 16.2|          15.6|\n",
      "+--------------------+-----+--------------+\n",
      "only showing top 10 rows\n",
      "\n"
     ]
    }
   ],
   "source": [
    "pred_forest.show(10)"
   ]
  },
  {
   "cell_type": "markdown",
   "id": "ac3ddfdf-69a4-4b68-8aa6-f1be8225ad89",
   "metadata": {},
   "source": [
    "### Evaluation metrics"
   ]
  },
  {
   "cell_type": "code",
   "execution_count": 44,
   "id": "585e8e6a-03a3-4d02-9eec-10861c74e267",
   "metadata": {},
   "outputs": [],
   "source": [
    "rmse = RegressionEvaluator(labelCol=\"label\", predictionCol=\"prediction\", metricName=\"rmse\") # root mean square err"
   ]
  },
  {
   "cell_type": "code",
   "execution_count": 45,
   "id": "9c515937-095c-4564-b74b-90ceae8d20d8",
   "metadata": {},
   "outputs": [],
   "source": [
    "rmse_result = rmse.evaluate(pred)"
   ]
  },
  {
   "cell_type": "code",
   "execution_count": 46,
   "id": "64c95c56-530c-4b73-af78-685a4071f116",
   "metadata": {},
   "outputs": [
    {
     "data": {
      "text/plain": [
       "3.575537980595232"
      ]
     },
     "execution_count": 46,
     "metadata": {},
     "output_type": "execute_result"
    }
   ],
   "source": [
    "rmse_result"
   ]
  },
  {
   "cell_type": "code",
   "execution_count": 47,
   "id": "d478d788-c42d-40fd-9df4-0fd5862d1af2",
   "metadata": {},
   "outputs": [],
   "source": [
    "rsquare = RegressionEvaluator(labelCol=\"label\", predictionCol=\"prediction\", metricName=\"r2\") # r-squared"
   ]
  },
  {
   "cell_type": "code",
   "execution_count": 48,
   "id": "86e12813-a665-4432-9b94-a33a0e905d9e",
   "metadata": {},
   "outputs": [],
   "source": [
    "rsquare_result = rsquare.evaluate(pred)"
   ]
  },
  {
   "cell_type": "code",
   "execution_count": 49,
   "id": "9f92cab2-225e-4fe7-97e7-b1bcaf618ba1",
   "metadata": {},
   "outputs": [
    {
     "data": {
      "text/plain": [
       "0.23082695069764902"
      ]
     },
     "execution_count": 49,
     "metadata": {},
     "output_type": "execute_result"
    }
   ],
   "source": [
    "rsquare_result"
   ]
  },
  {
   "cell_type": "code",
   "execution_count": 50,
   "id": "7a0d713d-0636-4821-97c4-28ff55ed77d4",
   "metadata": {},
   "outputs": [],
   "source": [
    "mae = RegressionEvaluator(labelCol=\"label\", predictionCol=\"prediction\", metricName=\"mae\") # mean absolute err"
   ]
  },
  {
   "cell_type": "code",
   "execution_count": 51,
   "id": "52d0859e-98a2-4bdc-883e-0224bd1cd78c",
   "metadata": {},
   "outputs": [],
   "source": [
    "mae_result = mae.evaluate(pred)"
   ]
  },
  {
   "cell_type": "code",
   "execution_count": 52,
   "id": "6b2ede75-105e-4552-8a80-b2548b03382d",
   "metadata": {},
   "outputs": [
    {
     "data": {
      "text/plain": [
       "2.805661110162392"
      ]
     },
     "execution_count": 52,
     "metadata": {},
     "output_type": "execute_result"
    }
   ],
   "source": [
    "mae_result"
   ]
  },
  {
   "cell_type": "markdown",
   "id": "053e8973-d0b5-4595-b896-88d1d432dafb",
   "metadata": {},
   "source": [
    "### Plotting"
   ]
  },
  {
   "cell_type": "code",
   "execution_count": 53,
   "id": "01619553-d85c-41d1-a1b2-f7e9ffabb73a",
   "metadata": {},
   "outputs": [],
   "source": [
    "pred_pd = pred.toPandas()"
   ]
  },
  {
   "cell_type": "code",
   "execution_count": 54,
   "id": "d51e7d17-ef9b-4367-9eaf-f1148a4326cf",
   "metadata": {},
   "outputs": [],
   "source": [
    "seaborn.set(style=\"whitegrid\", font_scale = 1.9)"
   ]
  },
  {
   "cell_type": "code",
   "execution_count": 55,
   "id": "7b0e5cdb-990d-4b92-a4dc-954fc8f19522",
   "metadata": {},
   "outputs": [
    {
     "data": {
      "image/png": "[encoded data removed]",
      "text/plain": [
       "<Figure size 432x288 with 1 Axes>"
      ]
     },
     "metadata": {},
     "output_type": "display_data"
    }
   ],
   "source": [
    "# Using Seaborn\n",
    "fig, ax = plt.subplots()\n",
    "seaborn.set(color_codes=True)\n",
    "seaborn.set(rc={'figure.figsize':(15, 10)})\n",
    "seaborn.regplot(x=\"label\", y=\"prediction\", fit_reg=False, ax=ax,data= pred_pd,scatter_kws={\"color\": \"green\"});\n",
    "seaborn.regplot(x=\"label\", y=\"prediction\",scatter=False, ax=ax, data= pred_pd, line_kws={\"color\": \"red\"});"
   ]
  },
  {
   "cell_type": "code",
   "execution_count": 56,
   "id": "618dbe05-4559-486b-af05-cb8f9d30852b",
   "metadata": {},
   "outputs": [
    {
     "data": {
      "image/png": "[encoded data removed]",
      "text/plain": [
       "<Figure size 1080x720 with 1 Axes>"
      ]
     },
     "metadata": {},
     "output_type": "display_data"
    }
   ],
   "source": [
    "# Using matplotlib\n",
    "fig_, ax_ = plt.subplots(figsize=(15, 10))\n",
    "ax_.scatter(pred_pd.label, pred_pd.prediction, color='green', marker='o')\n",
    "# Line plot (regression line)\n",
    "m, b = np.polyfit(pred_pd.label, pred_pd.prediction, 1) # compute linear regression\n",
    "ax_.plot(pred_pd.label, m*pred_pd.label + b, color='red')\n",
    "ax_.set_xlabel('label', fontsize=20)\n",
    "ax_.set_ylabel('prediction', fontsize=20)\n",
    "plt.xticks(fontsize=15)\n",
    "plt.yticks(fontsize=15)\n",
    "plt.show()"
   ]
  },
  {
   "cell_type": "code",
   "execution_count": null,
   "id": "c6e2848e-01e2-4305-abd8-6ab0143855c1",
   "metadata": {},
   "outputs": [],
   "source": []
  },
  {
   "cell_type": "code",
   "execution_count": null,
   "id": "1b25d545-f4b9-4752-b987-fe68931e182a",
   "metadata": {},
   "outputs": [],
   "source": []
  }
 ],
 "metadata": {
  "kernelspec": {
   "display_name": "Python 3 (ipykernel)",
   "language": "python",
   "name": "python3"
  },
  "language_info": {
   "codemirror_mode": {
    "name": "ipython",
    "version": 3
   },
   "file_extension": ".py",
   "mimetype": "text/x-python",
   "name": "python",
   "nbconvert_exporter": "python",
   "pygments_lexer": "ipython3",
   "version": "3.9.10"
  }
 },
 "nbformat": 4,
 "nbformat_minor": 5
}
