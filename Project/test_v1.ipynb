{
 "cells": [
  {
   "cell_type": "code",
   "execution_count": 1,
   "metadata": {
    "ExecuteTime": {
     "end_time": "2024-04-17T12:31:57.449554Z",
     "start_time": "2024-04-17T12:31:54.843918Z"
    }
   },
   "outputs": [],
   "source": [
    "from pyspark.sql import SparkSession\n",
    "from pyspark import SparkFiles\n",
    "from pyspark.sql.functions import col\n",
    "from pyspark.sql.types import *\n",
    "import pandas as pd\n",
    "import matplotlib.pyplot as plt"
   ]
  },
  {
   "cell_type": "code",
   "execution_count": 2,
   "metadata": {
    "ExecuteTime": {
     "end_time": "2024-04-17T12:32:00.252494Z",
     "start_time": "2024-04-17T12:32:00.245942Z"
    }
   },
   "outputs": [],
   "source": [
    "from pyspark.sql.functions import col, to_date, date_format, lit,expr\n",
    "import random"
   ]
  },
  {
   "cell_type": "code",
   "execution_count": 3,
   "metadata": {
    "ExecuteTime": {
     "end_time": "2024-04-17T12:32:20.390303Z",
     "start_time": "2024-04-17T12:32:08.816574Z"
    }
   },
   "outputs": [],
   "source": [
    "spark = SparkSession.builder \\\n",
    ".master(\"local\") \\\n",
    ".appName(\"test_v1\") \\\n",
    ".getOrCreate()"
   ]
  },
  {
   "cell_type": "code",
   "execution_count": 4,
   "metadata": {
    "ExecuteTime": {
     "end_time": "2024-04-17T12:32:45.986031Z",
     "start_time": "2024-04-17T12:32:23.811551Z"
    }
   },
   "outputs": [],
   "source": [
    "raw_df = spark\\\n",
    "        .read\\\n",
    "        .csv('/mnt/group-14-pvc/data', header = True, inferSchema = True)"
   ]
  },
  {
   "cell_type": "code",
   "execution_count": 5,
   "metadata": {
    "ExecuteTime": {
     "end_time": "2024-04-17T12:32:50.799342Z",
     "start_time": "2024-04-17T12:32:49.667613Z"
    },
    "scrolled": false
   },
   "outputs": [
    {
     "name": "stdout",
     "output_type": "stream",
     "text": [
      "+-----------+-----------+----------------+----+--------------------+--------+--------+---------+\n",
      "|supermarket|prices_(¬£)|prices_unit_(¬£)|unit|               names|    date|category|own_brand|\n",
      "+-----------+-----------+----------------+----+--------------------+--------+--------+---------+\n",
      "|      Sains|        2.5|             4.6|   l|Cornetto Classico...|20240129|  frozen|    false|\n",
      "|      Sains|       1.19|            4.58|  kg|Sainsbury's Garli...|20240129|  frozen|     true|\n",
      "|      Sains|        0.8|            0.94|  kg|Stamford Street C...|20240129|  frozen|    false|\n",
      "|      Sains|        2.5|            7.31|  kg|Linda McCartney S...|20240129|  frozen|    false|\n",
      "|      Sains|       5.25|            10.1|  kg|Sainsbury's Cod S...|20240129|  frozen|     true|\n",
      "+-----------+-----------+----------------+----+--------------------+--------+--------+---------+\n",
      "only showing top 5 rows\n",
      "\n"
     ]
    }
   ],
   "source": [
    "raw_df.show(5)"
   ]
  },
  {
   "cell_type": "code",
   "execution_count": 7,
   "metadata": {
    "ExecuteTime": {
     "end_time": "2024-04-17T12:18:51.966444Z",
     "start_time": "2024-04-17T12:18:48.612294Z"
    }
   },
   "outputs": [
    {
     "data": {
      "text/plain": [
       "2104337"
      ]
     },
     "execution_count": 7,
     "metadata": {},
     "output_type": "execute_result"
    }
   ],
   "source": [
    "raw_df.count()"
   ]
  },
  {
   "cell_type": "code",
   "execution_count": null,
   "metadata": {},
   "outputs": [],
   "source": [
    "columns_to_drop = ['prices_(£)', 'prices_unit_(£)', 'unit', 'own_brand']\n",
    "raw_df = raw_df.drop(*columns_to_drop)"
   ]
  },
  {
   "cell_type": "code",
   "execution_count": 8,
   "metadata": {
    "ExecuteTime": {
     "end_time": "2024-04-17T12:33:05.571722Z",
     "start_time": "2024-04-17T12:33:05.564157Z"
    }
   },
   "outputs": [
    {
     "name": "stdout",
     "output_type": "stream",
     "text": [
      "root\n",
      " |-- supermarket: string (nullable = true)\n",
      " |-- prices_(¬£): double (nullable = true)\n",
      " |-- prices_unit_(¬£): double (nullable = true)\n",
      " |-- unit: string (nullable = true)\n",
      " |-- names: string (nullable = true)\n",
      " |-- date: string (nullable = true)\n",
      " |-- category: string (nullable = true)\n",
      " |-- own_brand: boolean (nullable = true)\n",
      "\n"
     ]
    }
   ],
   "source": [
    "raw_df.printSchema()"
   ]
  },
  {
   "cell_type": "code",
   "execution_count": 7,
   "metadata": {
    "ExecuteTime": {
     "end_time": "2024-04-17T12:33:02.583623Z",
     "start_time": "2024-04-17T12:33:02.143587Z"
    }
   },
   "outputs": [],
   "source": [
    "raw_df = raw_df.withColumn(\"date\", col(\"date\").cast(\"string\"))\n",
    "\n",
    "raw_df = raw_df.withColumn(\"date\", to_date(col(\"date\"), \"yyyyMMdd\"))"
   ]
  },
  {
   "cell_type": "code",
   "execution_count": 12,
   "metadata": {
    "ExecuteTime": {
     "end_time": "2024-04-17T12:33:43.529426Z",
     "start_time": "2024-04-17T12:33:43.521048Z"
    }
   },
   "outputs": [
    {
     "name": "stdout",
     "output_type": "stream",
     "text": [
      "root\n",
      " |-- supermarket: string (nullable = true)\n",
      " |-- prices_(¬£): double (nullable = true)\n",
      " |-- prices_unit_(¬£): double (nullable = true)\n",
      " |-- unit: string (nullable = true)\n",
      " |-- names: string (nullable = true)\n",
      " |-- date: date (nullable = true)\n",
      " |-- category: string (nullable = true)\n",
      " |-- own_brand: boolean (nullable = true)\n",
      "\n"
     ]
    }
   ],
   "source": [
    "raw_df.printSchema()"
   ]
  },
  {
   "cell_type": "code",
   "execution_count": 11,
   "metadata": {
    "ExecuteTime": {
     "end_time": "2024-04-17T12:33:26.193703Z",
     "start_time": "2024-04-17T12:33:25.054684Z"
    }
   },
   "outputs": [
    {
     "name": "stdout",
     "output_type": "stream",
     "text": [
      "+-----------+-----------+----------------+----+--------------------+----------+--------+---------+\n",
      "|supermarket|prices_(¬£)|prices_unit_(¬£)|unit|               names|      date|category|own_brand|\n",
      "+-----------+-----------+----------------+----+--------------------+----------+--------+---------+\n",
      "|      Sains|        2.5|             4.6|   l|Cornetto Classico...|2024-01-29|  frozen|    false|\n",
      "|      Sains|       1.19|            4.58|  kg|Sainsbury's Garli...|2024-01-29|  frozen|     true|\n",
      "|      Sains|        0.8|            0.94|  kg|Stamford Street C...|2024-01-29|  frozen|    false|\n",
      "|      Sains|        2.5|            7.31|  kg|Linda McCartney S...|2024-01-29|  frozen|    false|\n",
      "|      Sains|       5.25|            10.1|  kg|Sainsbury's Cod S...|2024-01-29|  frozen|     true|\n",
      "+-----------+-----------+----------------+----+--------------------+----------+--------+---------+\n",
      "only showing top 5 rows\n",
      "\n"
     ]
    }
   ],
   "source": [
    "raw_df.show(5)"
   ]
  },
  {
   "cell_type": "code",
   "execution_count": 13,
   "metadata": {
    "ExecuteTime": {
     "end_time": "2024-04-17T12:33:56.195380Z",
     "start_time": "2024-04-17T12:33:56.028024Z"
    }
   },
   "outputs": [],
   "source": [
    "raw_df.createOrReplaceTempView(\"transaction\")"
   ]
  },
  {
   "cell_type": "code",
   "execution_count": 16,
   "metadata": {
    "ExecuteTime": {
     "end_time": "2024-04-17T12:35:33.673598Z",
     "start_time": "2024-04-17T12:35:25.719381Z"
    }
   },
   "outputs": [
    {
     "name": "stdout",
     "output_type": "stream",
     "text": [
      "+----------+----------+\n",
      "|  Min_Date|  Max_Date|\n",
      "+----------+----------+\n",
      "|2024-01-09|2024-01-29|\n",
      "+----------+----------+\n",
      "\n"
     ]
    }
   ],
   "source": [
    "\n",
    "sql_query = \"\"\"\n",
    "    SELECT min(date) as Min_Date, max(date) as Max_Date\n",
    "    FROM transaction\n",
    "\"\"\"\n",
    "\n",
    "result_df = spark.sql(sql_query)\n",
    "result_df.show()"
   ]
  },
  {
   "cell_type": "code",
   "execution_count": 19,
   "metadata": {
    "ExecuteTime": {
     "end_time": "2024-04-17T12:36:58.820490Z",
     "start_time": "2024-04-17T12:36:58.809474Z"
    }
   },
   "outputs": [],
   "source": [
    "p_df = raw_df.drop('date')"
   ]
  },
  {
   "cell_type": "code",
   "execution_count": 20,
   "metadata": {
    "ExecuteTime": {
     "end_time": "2024-04-17T12:37:03.510333Z",
     "start_time": "2024-04-17T12:37:03.502360Z"
    }
   },
   "outputs": [
    {
     "name": "stdout",
     "output_type": "stream",
     "text": [
      "root\n",
      " |-- supermarket: string (nullable = true)\n",
      " |-- prices_(¬£): double (nullable = true)\n",
      " |-- prices_unit_(¬£): double (nullable = true)\n",
      " |-- unit: string (nullable = true)\n",
      " |-- names: string (nullable = true)\n",
      " |-- category: string (nullable = true)\n",
      " |-- own_brand: boolean (nullable = true)\n",
      "\n"
     ]
    }
   ],
   "source": [
    "p_df.printSchema()"
   ]
  },
  {
   "cell_type": "code",
   "execution_count": 21,
   "metadata": {
    "ExecuteTime": {
     "end_time": "2024-04-17T12:37:17.187442Z",
     "start_time": "2024-04-17T12:37:16.990948Z"
    }
   },
   "outputs": [],
   "source": [
    "p_df = raw_df.withColumn(\"date\", expr(\n",
    "    \"date_add(to_date('2023-01-01'), floor(rand() * 365))\"))"
   ]
  },
  {
   "cell_type": "code",
   "execution_count": 22,
   "metadata": {
    "ExecuteTime": {
     "end_time": "2024-04-17T12:37:24.378506Z",
     "start_time": "2024-04-17T12:37:23.737257Z"
    }
   },
   "outputs": [
    {
     "name": "stdout",
     "output_type": "stream",
     "text": [
      "+-----------+-----------+----------------+----+--------------------+----------+--------+---------+\n",
      "|supermarket|prices_(¬£)|prices_unit_(¬£)|unit|               names|      date|category|own_brand|\n",
      "+-----------+-----------+----------------+----+--------------------+----------+--------+---------+\n",
      "|      Sains|        2.5|             4.6|   l|Cornetto Classico...|2023-03-22|  frozen|    false|\n",
      "|      Sains|       1.19|            4.58|  kg|Sainsbury's Garli...|2023-03-17|  frozen|     true|\n",
      "|      Sains|        0.8|            0.94|  kg|Stamford Street C...|2023-12-31|  frozen|    false|\n",
      "|      Sains|        2.5|            7.31|  kg|Linda McCartney S...|2023-04-20|  frozen|    false|\n",
      "|      Sains|       5.25|            10.1|  kg|Sainsbury's Cod S...|2023-03-06|  frozen|     true|\n",
      "|      Sains|        2.0|             5.0|  kg|Sainsbury‚Äôs Bee...|2023-12-10|  frozen|    false|\n",
      "|      Sains|        5.5|            12.5|  kg|Young's Chip Shop...|2023-10-18|  frozen|    false|\n",
      "|      Sains|        4.5|             9.0|  kg|Sainsbury's Diced...|2023-11-10|  frozen|     true|\n",
      "|      Sains|        3.2|             3.2|   l|Mackie's of Scotl...|2023-01-27|  frozen|    false|\n",
      "|      Sains|        4.0|            19.4|   l|Little Moons Moch...|2023-05-19|  frozen|    false|\n",
      "|      Sains|       3.25|           13.54|  kg|itsu Sizzling Por...|2023-03-28|  frozen|    false|\n",
      "|      Sains|        3.2|             4.0|  kg|Value Pack Chapat...|2023-01-02|  frozen|    false|\n",
      "|      Sains|        3.5|            10.6|   l|Magnum Mini Choco...|2023-05-12|  frozen|    false|\n",
      "|      Sains|       1.45|             3.6|  kg|Stamford Street C...|2023-12-30|  frozen|    false|\n",
      "|      Sains|        3.0|             9.3|  kg|Kirsty's Luxury A...|2023-11-10|  frozen|    false|\n",
      "|      Sains|        3.0|            10.0|  kg|Sainsbury's Hot &...|2023-04-29|  frozen|     true|\n",
      "|      Sains|        5.5|            7.95|  kg|Chicago Town Week...|2023-04-29|  frozen|    false|\n",
      "|      Sains|        3.5|            18.4|   l|Oppo Dipped Banan...|2023-10-11|  frozen|    false|\n",
      "|      Sains|        4.5|             4.5|   l|Mr Muscle Gel Sin...|2023-02-01|    home|    false|\n",
      "|      Sains|       1.85|            1.85|unit|Carplan De-ionise...|2023-08-24|    home|    false|\n",
      "+-----------+-----------+----------------+----+--------------------+----------+--------+---------+\n",
      "only showing top 20 rows\n",
      "\n"
     ]
    }
   ],
   "source": [
    "p_df.show()"
   ]
  },
  {
   "cell_type": "code",
   "execution_count": 23,
   "metadata": {
    "ExecuteTime": {
     "end_time": "2024-04-17T12:37:37.005403Z",
     "start_time": "2024-04-17T12:37:36.997733Z"
    }
   },
   "outputs": [
    {
     "name": "stdout",
     "output_type": "stream",
     "text": [
      "root\n",
      " |-- supermarket: string (nullable = true)\n",
      " |-- prices_(¬£): double (nullable = true)\n",
      " |-- prices_unit_(¬£): double (nullable = true)\n",
      " |-- unit: string (nullable = true)\n",
      " |-- names: string (nullable = true)\n",
      " |-- date: date (nullable = true)\n",
      " |-- category: string (nullable = true)\n",
      " |-- own_brand: boolean (nullable = true)\n",
      "\n"
     ]
    }
   ],
   "source": [
    "p_df.printSchema()"
   ]
  },
  {
   "cell_type": "code",
   "execution_count": 24,
   "metadata": {
    "ExecuteTime": {
     "end_time": "2024-04-17T12:38:10.379561Z",
     "start_time": "2024-04-17T12:38:10.294049Z"
    }
   },
   "outputs": [],
   "source": [
    "p_df.createOrReplaceTempView(\"p_df\")"
   ]
  },
  {
   "cell_type": "code",
   "execution_count": 25,
   "metadata": {
    "ExecuteTime": {
     "end_time": "2024-04-17T12:38:31.372885Z",
     "start_time": "2024-04-17T12:38:22.122339Z"
    }
   },
   "outputs": [
    {
     "name": "stdout",
     "output_type": "stream",
     "text": [
      "+----------+----------+\n",
      "|  Min_Date|  Max_Date|\n",
      "+----------+----------+\n",
      "|2023-01-01|2023-12-31|\n",
      "+----------+----------+\n",
      "\n"
     ]
    }
   ],
   "source": [
    "sql_query = \"\"\"\n",
    "    SELECT min(date) as Min_Date, max(date) as Max_Date\n",
    "    FROM p_df\n",
    "\"\"\"\n",
    "\n",
    "spark.sql(sql_query).show()"
   ]
  },
  {
   "cell_type": "code",
   "execution_count": 27,
   "metadata": {
    "ExecuteTime": {
     "end_time": "2024-04-17T12:39:42.675501Z",
     "start_time": "2024-04-17T12:39:42.343357Z"
    }
   },
   "outputs": [
    {
     "name": "stdout",
     "output_type": "stream",
     "text": [
      "+-----------+-----------+----------------+----+--------------------+----------+--------+---------+\n",
      "|supermarket|prices_(¬£)|prices_unit_(¬£)|unit|               names|      date|category|own_brand|\n",
      "+-----------+-----------+----------------+----+--------------------+----------+--------+---------+\n",
      "|      Sains|        2.5|             4.6|   l|Cornetto Classico...|2023-03-22|  frozen|    false|\n",
      "|      Sains|       1.19|            4.58|  kg|Sainsbury's Garli...|2023-03-17|  frozen|     true|\n",
      "|      Sains|        0.8|            0.94|  kg|Stamford Street C...|2023-12-31|  frozen|    false|\n",
      "|      Sains|        2.5|            7.31|  kg|Linda McCartney S...|2023-04-20|  frozen|    false|\n",
      "|      Sains|       5.25|            10.1|  kg|Sainsbury's Cod S...|2023-03-06|  frozen|     true|\n",
      "+-----------+-----------+----------------+----+--------------------+----------+--------+---------+\n",
      "only showing top 5 rows\n",
      "\n"
     ]
    }
   ],
   "source": [
    "p_df.show(5)"
   ]
  },
  {
   "cell_type": "code",
   "execution_count": 28,
   "metadata": {
    "ExecuteTime": {
     "end_time": "2024-04-17T12:40:01.987312Z",
     "start_time": "2024-04-17T12:40:01.902443Z"
    }
   },
   "outputs": [],
   "source": [
    "cities = ['Armagh', 'Bangor', 'Belfast', 'Lisburn', 'Londonderry', 'Newry', 'Bath', 'Birmingham', 'Bradford', 'Brighton & Hove', 'Bristol', 'Cambridge', 'Canterbury', 'Carlisle', 'Chelmsford', 'Chester', 'Chichester', 'Colchester', 'Coventry', 'Derby', 'Doncaster', 'Durham', 'Ely', 'Exeter', 'Gloucester', 'Hereford', 'Kingston-upon-Hull', 'Lancaster', 'Leeds', 'Leicester', 'Lichfield', 'Lincoln', 'Liverpool', 'London', 'Manchester', 'Milton Keynes', 'Newcastle-upon-Tyne', 'Norwich', 'Nottingham', 'Oxford', 'Peterborough', 'Plymouth', 'Portsmouth', 'Preston', 'Ripon', 'Salford', 'Salisbury', 'Sheffield', 'Southampton', 'Southend-on-Sea', 'St Albans', 'Stoke on Trent', 'Sunderland', 'Truro', 'Wakefield', 'Wells', 'Westminster', 'Winchester', 'Wolverhampton', 'Worcester', 'York', 'Aberdeen', 'Dundee', 'Dunfermline', 'Edinburgh', 'Glasgow', 'Inverness', 'Perth', 'Stirling', 'Bangor', 'Cardiff', 'Newport', 'St Asaph', 'St Davids', 'Swansea', 'Wrexham']\n",
    "\n",
    "\n",
    "random.shuffle(cities)\n",
    "\n",
    "p_df = p_df.withColumn(\"city\", expr(\"element_at(array('{0}'), int(rand() * {1}) + 1)\".format(\"','\".join(cities), len(cities))))"
   ]
  },
  {
   "cell_type": "code",
   "execution_count": 29,
   "metadata": {
    "ExecuteTime": {
     "end_time": "2024-04-17T12:40:10.472983Z",
     "start_time": "2024-04-17T12:40:09.826295Z"
    }
   },
   "outputs": [
    {
     "name": "stdout",
     "output_type": "stream",
     "text": [
      "+-----------+-----------+----------------+----+--------------------+----------+--------+---------+---------------+\n",
      "|supermarket|prices_(¬£)|prices_unit_(¬£)|unit|               names|      date|category|own_brand|           city|\n",
      "+-----------+-----------+----------------+----+--------------------+----------+--------+---------+---------------+\n",
      "|      Sains|        2.5|             4.6|   l|Cornetto Classico...|2023-03-22|  frozen|    false|       Plymouth|\n",
      "|      Sains|       1.19|            4.58|  kg|Sainsbury's Garli...|2023-03-17|  frozen|     true|Brighton & Hove|\n",
      "|      Sains|        0.8|            0.94|  kg|Stamford Street C...|2023-12-31|  frozen|    false|     Chelmsford|\n",
      "|      Sains|        2.5|            7.31|  kg|Linda McCartney S...|2023-04-20|  frozen|    false|        Cardiff|\n",
      "|      Sains|       5.25|            10.1|  kg|Sainsbury's Cod S...|2023-03-06|  frozen|     true|         Durham|\n",
      "+-----------+-----------+----------------+----+--------------------+----------+--------+---------+---------------+\n",
      "only showing top 5 rows\n",
      "\n"
     ]
    }
   ],
   "source": [
    "p_df.show(5)"
   ]
  },
  {
   "cell_type": "code",
   "execution_count": 30,
   "metadata": {
    "ExecuteTime": {
     "end_time": "2024-04-17T12:40:18.275048Z",
     "start_time": "2024-04-17T12:40:18.145113Z"
    }
   },
   "outputs": [],
   "source": [
    "p_df.createOrReplaceTempView(\"p_df\")"
   ]
  },
  {
   "cell_type": "code",
   "execution_count": 32,
   "metadata": {
    "ExecuteTime": {
     "end_time": "2024-04-17T12:43:46.977278Z",
     "start_time": "2024-04-17T12:43:33.969986Z"
    }
   },
   "outputs": [
    {
     "name": "stdout",
     "output_type": "stream",
     "text": [
      "+-----------+--------+\n",
      "|supermarket|count(1)|\n",
      "+-----------+--------+\n",
      "|       Aldi|    1343|\n",
      "|  Morrisons|    5037|\n",
      "|      Tesco|    6217|\n",
      "|       ASDA|    6991|\n",
      "|      Sains|    7694|\n",
      "+-----------+--------+\n",
      "\n"
     ]
    }
   ],
   "source": [
    "sql_query = \"\"\"\n",
    "    SELECT supermarket, count(1) \n",
    "    FROM p_df \n",
    "    where city = 'Bath'\n",
    "    group by supermarket\n",
    "    order by count(1)\n",
    "\"\"\"\n",
    "\n",
    "\n",
    "# sql_query = \"\"\"\n",
    "#     SELECT city, count(1) \n",
    "#     FROM p_df group by city order by count(1)\n",
    "# \"\"\"\n",
    "\n",
    "spark.sql(sql_query).show(80)"
   ]
  },
  {
   "cell_type": "code",
   "execution_count": 75,
   "metadata": {
    "ExecuteTime": {
     "end_time": "2024-04-17T10:23:38.169024Z",
     "start_time": "2024-04-17T10:23:31.010561Z"
    }
   },
   "outputs": [
    {
     "name": "stdout",
     "output_type": "stream",
     "text": [
      "+--------------------+\n",
      "|count(DISTINCT city)|\n",
      "+--------------------+\n",
      "|                  75|\n",
      "+--------------------+\n",
      "\n"
     ]
    }
   ],
   "source": [
    "sql_query = \"\"\"\n",
    "    SELECT count(distinct city)\n",
    "    FROM p_df\n",
    "\"\"\"\n",
    "\n",
    "spark.sql(sql_query).show(80)"
   ]
  },
  {
   "cell_type": "code",
   "execution_count": 35,
   "metadata": {
    "ExecuteTime": {
     "end_time": "2024-04-17T13:41:44.328321Z",
     "start_time": "2024-04-17T13:41:44.308880Z"
    }
   },
   "outputs": [],
   "source": [
    "p_df = p_df.withColumnRenamed(\"prices_(¬£)\", \"price\")\\\n",
    "       .withColumnRenamed(\"prices_unit_(¬£)\", \"price_unit\")\\\n",
    "       .withColumnRenamed(\"names\", \"product_name\")\\\n",
    "       .withColumnRenamed(\"category\", \"product_category\")\\\n",
    "       .withColumnRenamed(\"unit\", \"measure_unit\")\n",
    "        "
   ]
  },
  {
   "cell_type": "code",
   "execution_count": 36,
   "metadata": {
    "ExecuteTime": {
     "end_time": "2024-04-17T13:41:51.393379Z",
     "start_time": "2024-04-17T13:41:50.929507Z"
    }
   },
   "outputs": [
    {
     "name": "stdout",
     "output_type": "stream",
     "text": [
      "+-----------+-----+----------+------------+--------------------+----------+----------------+---------+------------------+\n",
      "|supermarket|price|price_unit|measure_unit|        product_name|      date|product_category|own_brand|              city|\n",
      "+-----------+-----+----------+------------+--------------------+----------+----------------+---------+------------------+\n",
      "|      Sains|  2.5|       4.6|           l|Cornetto Classico...|2023-03-22|          frozen|    false|          Plymouth|\n",
      "|      Sains| 1.19|      4.58|          kg|Sainsbury's Garli...|2023-03-17|          frozen|     true|   Brighton & Hove|\n",
      "|      Sains|  0.8|      0.94|          kg|Stamford Street C...|2023-12-31|          frozen|    false|        Chelmsford|\n",
      "|      Sains|  2.5|      7.31|          kg|Linda McCartney S...|2023-04-20|          frozen|    false|           Cardiff|\n",
      "|      Sains| 5.25|      10.1|          kg|Sainsbury's Cod S...|2023-03-06|          frozen|     true|            Durham|\n",
      "|      Sains|  2.0|       5.0|          kg|Sainsbury‚Äôs Bee...|2023-12-10|          frozen|    false|         Salisbury|\n",
      "|      Sains|  5.5|      12.5|          kg|Young's Chip Shop...|2023-10-18|          frozen|    false|        Manchester|\n",
      "|      Sains|  4.5|       9.0|          kg|Sainsbury's Diced...|2023-11-10|          frozen|     true|         Cambridge|\n",
      "|      Sains|  3.2|       3.2|           l|Mackie's of Scotl...|2023-01-27|          frozen|    false|           Salford|\n",
      "|      Sains|  4.0|      19.4|           l|Little Moons Moch...|2023-05-19|          frozen|    false|Kingston-upon-Hull|\n",
      "|      Sains| 3.25|     13.54|          kg|itsu Sizzling Por...|2023-03-28|          frozen|    false|             Newry|\n",
      "|      Sains|  3.2|       4.0|          kg|Value Pack Chapat...|2023-01-02|          frozen|    false|           Glasgow|\n",
      "|      Sains|  3.5|      10.6|           l|Magnum Mini Choco...|2023-05-12|          frozen|    false|           Cardiff|\n",
      "|      Sains| 1.45|       3.6|          kg|Stamford Street C...|2023-12-30|          frozen|    false|         Inverness|\n",
      "|      Sains|  3.0|       9.3|          kg|Kirsty's Luxury A...|2023-11-10|          frozen|    false|         Leicester|\n",
      "|      Sains|  3.0|      10.0|          kg|Sainsbury's Hot &...|2023-04-29|          frozen|     true|    Stoke on Trent|\n",
      "|      Sains|  5.5|      7.95|          kg|Chicago Town Week...|2023-04-29|          frozen|    false|          Aberdeen|\n",
      "|      Sains|  3.5|      18.4|           l|Oppo Dipped Banan...|2023-10-11|          frozen|    false|    Stoke on Trent|\n",
      "|      Sains|  4.5|       4.5|           l|Mr Muscle Gel Sin...|2023-02-01|            home|    false|              Bath|\n",
      "|      Sains| 1.85|      1.85|        unit|Carplan De-ionise...|2023-08-24|            home|    false|       Londonderry|\n",
      "+-----------+-----+----------+------------+--------------------+----------+----------------+---------+------------------+\n",
      "only showing top 20 rows\n",
      "\n"
     ]
    }
   ],
   "source": [
    "p_df.show()"
   ]
  },
  {
   "cell_type": "code",
   "execution_count": 37,
   "metadata": {
    "ExecuteTime": {
     "end_time": "2024-04-17T13:42:22.566815Z",
     "start_time": "2024-04-17T13:42:22.559597Z"
    }
   },
   "outputs": [
    {
     "name": "stdout",
     "output_type": "stream",
     "text": [
      "root\n",
      " |-- supermarket: string (nullable = true)\n",
      " |-- price: double (nullable = true)\n",
      " |-- price_unit: double (nullable = true)\n",
      " |-- measure_unit: string (nullable = true)\n",
      " |-- product_name: string (nullable = true)\n",
      " |-- date: date (nullable = true)\n",
      " |-- product_category: string (nullable = true)\n",
      " |-- own_brand: boolean (nullable = true)\n",
      " |-- city: string (nullable = true)\n",
      "\n"
     ]
    }
   ],
   "source": [
    "p_df.printSchema()"
   ]
  },
  {
   "cell_type": "code",
   "execution_count": 38,
   "metadata": {
    "ExecuteTime": {
     "end_time": "2024-04-17T13:48:56.607705Z",
     "start_time": "2024-04-17T13:48:38.175447Z"
    }
   },
   "outputs": [],
   "source": [
    "output_path = '/mnt/group-14-pvc/processed_data'\n",
    "p_df.write.csv(output_path, header=True, mode=\"overwrite\")"
   ]
  },
  {
   "cell_type": "code",
   "execution_count": 40,
   "metadata": {
    "ExecuteTime": {
     "end_time": "2024-04-17T13:51:32.390292Z",
     "start_time": "2024-04-17T13:51:30.411080Z"
    }
   },
   "outputs": [
    {
     "data": {
      "text/plain": [
       "2104337"
      ]
     },
     "execution_count": 40,
     "metadata": {},
     "output_type": "execute_result"
    }
   ],
   "source": [
    "processed_df.count()"
   ]
  },
  {
   "cell_type": "code",
   "execution_count": null,
   "metadata": {},
   "outputs": [],
   "source": []
  }
 ],
 "metadata": {
  "kernelspec": {
   "display_name": "Python 3",
   "language": "python",
   "name": "python3"
  },
  "language_info": {
   "codemirror_mode": {
    "name": "ipython",
    "version": 3
   },
   "file_extension": ".py",
   "mimetype": "text/x-python",
   "name": "python",
   "nbconvert_exporter": "python",
   "pygments_lexer": "ipython3",
   "version": "3.6.7"
  },
  "toc": {
   "base_numbering": 1,
   "nav_menu": {},
   "number_sections": true,
   "sideBar": true,
   "skip_h1_title": false,
   "title_cell": "Table of Contents",
   "title_sidebar": "Contents",
   "toc_cell": false,
   "toc_position": {},
   "toc_section_display": true,
   "toc_window_display": false
  }
 },
 "nbformat": 4,
 "nbformat_minor": 2
}
