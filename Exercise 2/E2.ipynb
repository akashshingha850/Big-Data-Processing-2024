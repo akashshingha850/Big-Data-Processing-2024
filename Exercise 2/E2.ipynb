{
 "cells": [
  {
   "cell_type": "code",
   "execution_count": null,
   "id": "b7ca1347-2d33-4192-8b84-14129dcea682",
   "metadata": {},
   "outputs": [],
   "source": [
    "from pyspark.sql import SparkSession\n",
    "from pyspark.sql import functions as F\n",
    "from pyspark import SparkFiles\n",
    "import json\n",
    "import requests\n",
    "import sys"
   ]
  },
  {
   "cell_type": "code",
   "execution_count": null,
   "id": "b1745ab2-7bb3-4703-b666-78a94547b010",
   "metadata": {},
   "outputs": [],
   "source": [
    "spark = SparkSession.builder \\\n",
    ".master(\"local\") \\\n",
    ".appName(\"Exercise2\") \\\n",
    ".getOrCreate()"
   ]
  },
  {
   "cell_type": "code",
   "execution_count": null,
   "id": "989785d8-50c5-4535-a510-33893fd7d241",
   "metadata": {},
   "outputs": [],
   "source": [
    "df = spark.read.csv(\"exampleData.csv\", header=True, inferSchema=True)"
   ]
  },
  {
   "cell_type": "code",
   "execution_count": null,
   "id": "9e148c53-e894-4aae-8067-1cd41613010e",
   "metadata": {},
   "outputs": [],
   "source": [
    "staticSchema = df.schema"
   ]
  },
  {
   "cell_type": "code",
   "execution_count": null,
   "id": "b7826dc2-af3b-41da-9a9c-1d005f46fb81",
   "metadata": {},
   "outputs": [],
   "source": [
    "streamingDF = spark.readStream\\\n",
    ".schema(staticSchema)\\\n",
    ".option(\"maxFilesPerTrigger\", 1)\\\n",
    ".format(\"csv\")\\\n",
    ".option(\"header\", \"true\")\\\n",
    ".load(\"/home/jovyan/*.csv\")"
   ]
  },
  {
   "cell_type": "code",
   "execution_count": null,
   "id": "c1bb5d61-048d-4f5c-87a0-152f3a92df01",
   "metadata": {},
   "outputs": [],
   "source": [
    "streamingDF.isStreaming"
   ]
  },
  {
   "cell_type": "code",
   "execution_count": null,
   "id": "981c8b77-0bbd-45e2-b600-171bc0c3f296",
   "metadata": {},
   "outputs": [],
   "source": [
    "filteredDF = streamingDF.filter((F.col('air_temperature')<5))"
   ]
  },
  {
   "cell_type": "code",
   "execution_count": null,
   "id": "2f17868e-67d1-4125-8af1-b2dcd6bde512",
   "metadata": {},
   "outputs": [],
   "source": [
    "df = filteredDF.writeStream.format(\"memory\") \\\n",
    ".queryName(\"weatherQuery\") \\\n",
    ".outputMode(\"append\") \\\n",
    ".start()"
   ]
  },
  {
   "cell_type": "code",
   "execution_count": null,
   "id": "aadc6c15-4718-4a98-bea5-6bd401d01416",
   "metadata": {},
   "outputs": [],
   "source": [
    "df.awaitTermination() # run and terminate by Keyboard Interruption (interrupt the kernel - square button)"
   ]
  },
  {
   "cell_type": "code",
   "execution_count": null,
   "id": "3887c08b-d821-4109-ae3e-d4c6446a1224",
   "metadata": {},
   "outputs": [],
   "source": [
    "spark.sql(\"\"\"\n",
    "SELECT *\n",
    "FROM weatherQuery\n",
    "\"\"\")\\\n",
    ".show(5)"
   ]
  },
  {
   "cell_type": "markdown",
   "id": "b56fe70b-bc40-4abc-acc0-cb6666125c3d",
   "metadata": {},
   "source": [
    "## Read from URL "
   ]
  },
  {
   "cell_type": "code",
   "execution_count": null,
   "id": "e7badb4a-a98d-40bf-8977-3d8b2d4285cb",
   "metadata": {},
   "outputs": [],
   "source": [
    "url = \"https://people.sc.fsu.edu/~jburkardt/data/csv/homes.csv\"\n",
    "# try your url here"
   ]
  },
  {
   "cell_type": "code",
   "execution_count": null,
   "id": "63cdb549-0e15-4514-b617-3756b0d9fafc",
   "metadata": {},
   "outputs": [],
   "source": [
    "spark.sparkContext.addFile(url)"
   ]
  },
  {
   "cell_type": "code",
   "execution_count": null,
   "id": "8b39ffc7-4901-42e7-be85-d03a571118e7",
   "metadata": {},
   "outputs": [],
   "source": [
    "df = spark.read.csv(\"file://\"+SparkFiles.get('homes.csv'), header=True, inferSchema=True) # change home.csv to the filename according to your data"
   ]
  },
  {
   "cell_type": "code",
   "execution_count": null,
   "id": "5e9232a3-2ef3-43d0-9474-1e3844783976",
   "metadata": {},
   "outputs": [],
   "source": [
    "df.show(3)"
   ]
  },
  {
   "cell_type": "markdown",
   "id": "39c6b9f4-3111-45a6-b477-9497b573b276",
   "metadata": {
    "tags": []
   },
   "source": [
    "## Read from API (open/public)"
   ]
  },
  {
   "cell_type": "code",
   "execution_count": null,
   "id": "cff0b7a9-5c76-4417-b4c3-de6f1b4d6c5d",
   "metadata": {},
   "outputs": [],
   "source": [
    "API_URL = \"https://jsonplaceholder.typicode.com/posts\" # try your url here"
   ]
  },
  {
   "cell_type": "code",
   "execution_count": null,
   "id": "695fa4a9-5fec-481f-8405-fb703d21252b",
   "metadata": {},
   "outputs": [],
   "source": [
    "response = requests.get(API_URL)"
   ]
  },
  {
   "cell_type": "code",
   "execution_count": null,
   "id": "ec96d74e-2621-4f82-8ec6-67a9da44905d",
   "metadata": {},
   "outputs": [],
   "source": [
    "if response.status_code == 200:\n",
    "    # Convert the JSON response to dictionary\n",
    "    data = json.loads(response.text)\n",
    "    \n",
    "    # Create df from data\n",
    "    df = spark.createDataFrame(data)\n",
    "    \n",
    "    # Show df\n",
    "    df.show(3)\n",
    "else:\n",
    "    print(\"Failed to retrieve data from API\")\n"
   ]
  },
  {
   "cell_type": "code",
   "execution_count": null,
   "id": "e759ceda-ceb6-4755-b0df-882f0790d746",
   "metadata": {},
   "outputs": [],
   "source": []
  }
 ],
 "metadata": {
  "kernelspec": {
   "display_name": "Python 3 (ipykernel)",
   "language": "python",
   "name": "python3"
  },
  "language_info": {
   "codemirror_mode": {
    "name": "ipython",
    "version": 3
   },
   "file_extension": ".py",
   "mimetype": "text/x-python",
   "name": "python",
   "nbconvert_exporter": "python",
   "pygments_lexer": "ipython3",
   "version": "3.9.10"
  }
 },
 "nbformat": 4,
 "nbformat_minor": 5
}
