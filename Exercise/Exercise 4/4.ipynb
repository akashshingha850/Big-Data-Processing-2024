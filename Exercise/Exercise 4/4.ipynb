{
 "cells": [
  {
   "cell_type": "markdown",
   "id": "b52bec33-eda5-4c89-9fa8-6b45c2982748",
   "metadata": {},
   "source": [
    "# Exercise 4 Spark MLlib (MultiLayer perceptron classifier)\n"
   ]
  },
  {
   "cell_type": "markdown",
   "id": "4e3c1c83-dd57-44e5-b310-eee4c150a753",
   "metadata": {},
   "source": [
    "## Introduction\n",
    "Today you’ll learn about Spark MLlib How to perform operations and train learners using Spark MLlib\n",
    "Sources:\n",
    "\n",
    "1. https://spark.apache.org/\n",
    "\n",
    "2. https://spark.apache.org/docs/latest/ml-classification-regression.html\n",
    "\n",
    "3. https://github.com/Apress/learn-pyspark\n",
    "\n",
    "4. https://spark.apache.org/docs/latest/ml-classification-regression.html#multilayer-perceptron-classifier\n",
    "\n"
   ]
  },
  {
   "cell_type": "markdown",
   "id": "8a470983-603d-4388-a39a-490a3d54c24b",
   "metadata": {},
   "source": [
    "## Reading input data\n",
    "\n",
    "Input data file source: https://github.com/Apress/learn-pyspark/blob/master/chap_8/dl_data.csv\n"
   ]
  },
  {
   "cell_type": "code",
   "execution_count": 1,
   "id": "a4e90783-fdb0-41be-a8a7-7e5109440bda",
   "metadata": {},
   "outputs": [],
   "source": [
    "import os\n",
    "import numpy as np\n",
    "import pandas as pd\n",
    "from pyspark.sql.types import *\n",
    "from pyspark.ml import Pipeline\n",
    "from pyspark.sql import functions as f\n",
    "from pyspark.sql.functions import udf, StringType\n",
    "from pyspark.sql import SparkSession, functions as F\n",
    "from pyspark.ml.evaluation import MulticlassClassificationEvaluator\n",
    "from pyspark.ml.classification import MultilayerPerceptronClassifier\n",
    "from pyspark.ml.feature import OneHotEncoder, VectorAssembler, StringIndexer\n",
    "\n",
    "#Building session now\n",
    "spark =SparkSession.builder.appName('deep_learning_with_spark').getOrCreate()\n",
    "\n",
    "#Reading the file now\n",
    "data = spark.read.csv('/home/jovyan/dl_data.csv', header=True, inferSchema=True)"
   ]
  },
  {
   "cell_type": "markdown",
   "id": "26c8df1e-fa99-430b-8594-b0fc205c6d14",
   "metadata": {},
   "source": [
    "## Exploring schema\n",
    "\n",
    "Now, we will check the data types of parameters present in the read file. Also, if there is categorical data, how should we proceed with it?"
   ]
  },
  {
   "cell_type": "code",
   "execution_count": 2,
   "id": "6edbe393-5235-4747-89e3-36e59ed525ab",
   "metadata": {},
   "outputs": [
    {
     "name": "stdout",
     "output_type": "stream",
     "text": [
      "+-------------------+---------------------+-----------------+-------------------------------------+-------------------------------+-----------------------+------------------------------+-------------------------------+-------------------------+-------------------------+-------------------+------------------+-------------------+-----------------+------------------+------------------+-------------------------+\n",
      "|Visit_Number_Bucket|Page_Views_Normalized|Orders_Normalized|Internal_Search_Successful_Normalized|Internal_Search_Null_Normalized|Email_Signup_Normalized|Total_Seconds_Spent_Normalized|Store_Locator_Search_Normalized|Mapped_Last_Touch_Channel|Mapped_Mobile_Device_Type|Mapped_Browser_Type|Mapped_Entry_Pages|Mapped_Site_Section|Mapped_Promo_Code|Maped_Product_Name|Mapped_Search_Term|Mapped_Product_Collection|\n",
      "+-------------------+---------------------+-----------------+-------------------------------------+-------------------------------+-----------------------+------------------------------+-------------------------------+-------------------------+-------------------------+-------------------+------------------+-------------------+-----------------+------------------+------------------+-------------------------+\n",
      "|      less than  11|          0.026315789|                1|                                  0.0|                            0.0|                    0.0|                     4.5819E-4|                            0.0|                 Channel1|                  Device1|           Browser1|       Entry_Page1|      Site_Section1|      Promo_Code1|     Product_Name1|      Search_Term1|      Product_Collection1|\n",
      "|      less than  11|                  0.0|                1|                                  0.0|                            0.0|                    0.0|                           0.0|                            0.0|                 Channel1|                  Device1|           Browser2|       Entry_Page2|      Site_Section1|      Promo_Code1|     Product_Name1|      Search_Term1|      Product_Collection2|\n",
      "|      less than  11|                  0.0|                1|                                  0.0|                            0.0|                    0.0|                   0.002863688|                            0.0|                 Channel1|                  Device1|           Browser1|       Entry_Page2|      Site_Section1|      Promo_Code1|     Product_Name2|      Search_Term1|      Product_Collection3|\n",
      "|      less than  11|                  0.0|                1|                                  0.0|                            0.0|                    0.0|                   0.002863688|                            0.0|                 Channel1|                  Device1|           Browser1|       Entry_Page2|      Site_Section1|      Promo_Code1|     Product_Name2|      Search_Term1|      Product_Collection3|\n",
      "|      less than  11|          0.052631579|                1|                                  0.0|                            0.0|                    0.0|                   0.021764032|                            0.0|                 Channel1|                  Device1|           Browser2|       Entry_Page2|      Site_Section1|      Promo_Code1|     Product_Name3|      Search_Term1|      Product_Collection4|\n",
      "|      less than  11|          0.052631579|                1|                                  0.0|                            0.0|                    0.0|                   0.021764032|                            0.0|                 Channel1|                  Device1|           Browser2|       Entry_Page2|      Site_Section1|      Promo_Code1|     Product_Name2|      Search_Term1|      Product_Collection4|\n",
      "|      less than  11|                  0.0|                1|                                  0.0|                            0.0|                    0.0|                   0.002863688|                            0.0|                 Channel1|                  Device1|           Browser2|       Entry_Page1|      Site_Section1|      Promo_Code1|     Product_Name4|      Search_Term1|      Product_Collection5|\n",
      "|      less than  11|                  0.0|                1|                                  0.0|                            0.0|                    0.0|                           0.0|                            0.0|                 Channel1|                  Device1|           Browser3|       Entry_Page2|      Site_Section1|      Promo_Code2|     Product_Name2|      Search_Term1|      Product_Collection3|\n",
      "|      less than  11|                  0.0|                1|                                  0.0|                            0.0|                    0.0|                           0.0|                            0.0|                 Channel1|                  Device1|           Browser3|       Entry_Page2|      Site_Section1|      Promo_Code2|     Product_Name2|      Search_Term1|      Product_Collection3|\n",
      "|      less than  11|                  0.0|                1|                                  0.0|                            0.0|                    0.0|                           0.0|                            0.0|                 Channel1|                  Device1|           Browser3|       Entry_Page2|      Site_Section1|      Promo_Code2|     Product_Name1|      Search_Term1|      Product_Collection3|\n",
      "|      less than  11|                  0.0|                1|                                  0.0|                            0.0|                    0.0|                           0.0|                            0.0|                 Channel1|                  Device1|           Browser1|       Entry_Page3|      Site_Section1|      Promo_Code1|     Product_Name5|      Search_Term1|      Product_Collection6|\n",
      "|      less than  11|                  0.0|                1|                                  0.0|                            0.0|                    0.0|                   0.006071019|                            0.0|                 Channel1|                  Device1|           Browser2|       Entry_Page1|      Site_Section1|      Promo_Code1|     Product_Name1|      Search_Term1|      Product_Collection7|\n",
      "|      less than  11|                  0.0|                1|                                  0.0|                            0.0|                    0.0|                   0.006414662|                            0.0|                 Channel1|                  Device1|           Browser2|       Entry_Page4|      Site_Section1|      Promo_Code1|     Product_Name2|      Search_Term1|      Product_Collection1|\n",
      "|      less than  11|                  0.0|                1|                                  0.0|                            0.0|                    0.0|                           0.0|                            0.0|                 Channel1|                  Device1|           Browser2|       Entry_Page2|      Site_Section1|      Promo_Code1|     Product_Name1|      Search_Term2|      Product_Collection3|\n",
      "|      less than  11|                  0.0|                1|                                  0.0|                            0.0|                    0.0|                           0.0|                            0.0|                 Channel1|                  Device1|           Browser2|       Entry_Page1|      Site_Section1|      Promo_Code1|     Product_Name1|      Search_Term1|      Product_Collection1|\n",
      "|      less than  11|                  0.0|                1|                                  0.0|                            0.0|                    0.0|                   0.001145475|                            0.0|                 Channel1|                  Device1|           Browser1|       Entry_Page4|      Site_Section1|      Promo_Code1|     Product_Name1|      Search_Term1|      Product_Collection1|\n",
      "|      less than  11|                  0.0|                1|                                  0.0|                            0.0|                    0.0|                           0.0|                            0.0|                 Channel1|                  Device1|           Browser1|       Entry_Page5|      Site_Section1|      Promo_Code1|     Product_Name1|      Search_Term1|      Product_Collection1|\n",
      "|      less than  11|                  0.0|                1|                                  0.0|                            0.0|                    0.0|                           0.0|                            0.0|                 Channel1|                  Device1|           Browser1|       Entry_Page4|      Site_Section1|      Promo_Code3|     Product_Name2|      Search_Term1|      Product_Collection1|\n",
      "|      less than  11|                  0.0|                1|                                  0.0|                            0.0|                    0.0|                           0.0|                            0.0|                 Channel1|                  Device1|           Browser1|       Entry_Page4|      Site_Section1|      Promo_Code1|     Product_Name1|      Search_Term1|      Product_Collection3|\n",
      "|      less than  11|                  0.0|                1|                                  0.0|                            0.0|                    0.0|                           0.0|                            0.0|                 Channel1|                  Device1|           Browser2|       Entry_Page1|      Site_Section1|      Promo_Code1|     Product_Name1|      Search_Term1|      Product_Collection8|\n",
      "+-------------------+---------------------+-----------------+-------------------------------------+-------------------------------+-----------------------+------------------------------+-------------------------------+-------------------------+-------------------------+-------------------+------------------+-------------------+-----------------+------------------+------------------+-------------------------+\n",
      "only showing top 20 rows\n",
      "\n"
     ]
    }
   ],
   "source": [
    "data.dtypes\n",
    "data.show()"
   ]
  },
  {
   "cell_type": "markdown",
   "id": "c39536a4-877b-45bb-865a-2cca92546ba6",
   "metadata": {},
   "source": [
    "## Rename the column"
   ]
  },
  {
   "cell_type": "code",
   "execution_count": 3,
   "id": "cc87038f-1b2b-47eb-855f-c1f0fe3c4782",
   "metadata": {},
   "outputs": [
    {
     "name": "stdout",
     "output_type": "stream",
     "text": [
      "root\n",
      " |-- Visit_Number_Bucket: string (nullable = true)\n",
      " |-- Page_Views_Normalized: double (nullable = true)\n",
      " |-- label: integer (nullable = true)\n",
      " |-- Internal_Search_Successful_Normalized: double (nullable = true)\n",
      " |-- Internal_Search_Null_Normalized: double (nullable = true)\n",
      " |-- Email_Signup_Normalized: double (nullable = true)\n",
      " |-- Total_Seconds_Spent_Normalized: double (nullable = true)\n",
      " |-- Store_Locator_Search_Normalized: double (nullable = true)\n",
      " |-- Mapped_Last_Touch_Channel: string (nullable = true)\n",
      " |-- Mapped_Mobile_Device_Type: string (nullable = true)\n",
      " |-- Mapped_Browser_Type: string (nullable = true)\n",
      " |-- Mapped_Entry_Pages: string (nullable = true)\n",
      " |-- Mapped_Site_Section: string (nullable = true)\n",
      " |-- Mapped_Promo_Code: string (nullable = true)\n",
      " |-- Maped_Product_Name: string (nullable = true)\n",
      " |-- Mapped_Search_Term: string (nullable = true)\n",
      " |-- Mapped_Product_Collection: string (nullable = true)\n",
      "\n"
     ]
    }
   ],
   "source": [
    "data = data.withColumnRenamed(\"Orders_normalized\", \"label\")\n",
    "\n",
    "# Check the updated schema\n",
    "data.printSchema()"
   ]
  },
  {
   "cell_type": "markdown",
   "id": "3566df4b-2469-468a-98ad-cfa5d692df82",
   "metadata": {},
   "source": [
    "## Train, Validation and test split"
   ]
  },
  {
   "cell_type": "code",
   "execution_count": 4,
   "id": "472ce239-1d71-47ca-9a3e-4d13106af003",
   "metadata": {},
   "outputs": [],
   "source": [
    "train, validation, test = data.randomSplit([0.7, 0.2, 0.1], seed=1234)"
   ]
  },
  {
   "cell_type": "markdown",
   "id": "946e8273-775f-483b-84db-a6a0b0c2131f",
   "metadata": {},
   "source": [
    " ## Building the pipeline"
   ]
  },
  {
   "cell_type": "code",
   "execution_count": 5,
   "id": "e49b329a-d5a1-47a6-ab82-630adb9e0a37",
   "metadata": {},
   "outputs": [],
   "source": [
    "categorical_columns = [item[0] for item in data.dtypes if item[1].startswith('string')]\n",
    "numeric_columns = [item[0] for item in data.dtypes if item[1].startswith('double')]\n",
    "indexers = [StringIndexer(inputCol=column, outputCol='{0}_index'.format(column)) for column in categorical_columns]\n",
    "\n",
    "#Now we will building string indexer to further create the feature set from our data\n",
    "featuresCreator = VectorAssembler(inputCols=[indexer.getOutputCol() for indexer in indexers] + numeric_columns, outputCol=\"features\")\n",
    "\n",
    "#Configure the classifier\n",
    "layers = [len(featuresCreator.getInputCols()), 4, 2, 2]\n",
    "classifier = MultilayerPerceptronClassifier(labelCol='label', featuresCol='features', maxIter=100, layers=layers, blockSize=128, seed=1234)\n",
    "\n",
    "#Now are pipeline is configured so we can further move to fitting and prediction\n",
    "pipeline = Pipeline(stages=indexers + [featuresCreator, classifier])\n",
    "model = pipeline.fit(train)"
   ]
  },
  {
   "cell_type": "markdown",
   "id": "fc55a1e4-d49c-4b54-aac4-a9d5aa3dcf43",
   "metadata": {},
   "source": [
    "## Let's checkout the results"
   ]
  },
  {
   "cell_type": "code",
   "execution_count": 6,
   "id": "068da0e8-9282-4947-aa11-32071c267ecc",
   "metadata": {},
   "outputs": [],
   "source": [
    "train_output_df = model.transform(train)\n",
    "validation_output_df = model.transform(validation)\n",
    "test_output_df = model.transform(test)"
   ]
  },
  {
   "cell_type": "code",
   "execution_count": 7,
   "id": "e22e61ad-b9ca-42fb-8307-0863d1e3a1fa",
   "metadata": {},
   "outputs": [
    {
     "name": "stdout",
     "output_type": "stream",
     "text": [
      "Train weightedPrecision = 0.9779044413197855\n",
      "Validation weightedPrecision = 0.9784763194570193\n",
      "Test weightedPrecision = 0.9794300151810532\n",
      "Train weightedRecall = 0.9777107847904308\n",
      "Validation weightedRecall = 0.9783262682893477\n",
      "Test weightedRecall = 0.9793177544990599\n",
      "Train accuracy = 0.9777107847904308\n",
      "Validation accuracy = 0.9783262682893478\n",
      "Test accuracy = 0.9793177544990599\n"
     ]
    }
   ],
   "source": [
    "train_predictionAndLabels = train_output_df.select(\"prediction\", \"label\")\n",
    "validation_predictionAndLabels = validation_output_df.select(\"prediction\", \"label\")\n",
    "test_predictionAndLabels = test_output_df.select(\"prediction\", \"label\")\n",
    "metrics = ['weightedPrecision', 'weightedRecall', 'accuracy']\n",
    "for metric in metrics:\n",
    "    evaluator = MulticlassClassificationEvaluator(metricName=metric)\n",
    "    print('Train ' + metric + ' = ' + str(evaluator.evaluate(train_predictionAndLabels)))\n",
    "    print('Validation ' + metric + ' = ' + str(evaluator.evaluate(validation_predictionAndLabels)))\n",
    "    print('Test ' + metric + ' = ' + str(evaluator.evaluate(test_predictionAndLabels)))"
   ]
  },
  {
   "cell_type": "markdown",
   "id": "d3f59402-2a4e-40e8-b40c-8a27c42d57c4",
   "metadata": {},
   "source": [
    "## Plots and visualizations"
   ]
  },
  {
   "cell_type": "code",
   "execution_count": 8,
   "id": "1ddc983d-3faf-4aa8-9c04-79f93675b5c0",
   "metadata": {},
   "outputs": [
    {
     "name": "stdout",
     "output_type": "stream",
     "text": [
      "Confusion matrix, without normalization\n",
      "[[3760  104]\n",
      " [  50 3532]]\n"
     ]
    },
    {
     "data": {
      "image/png": "[encoded data removed]",
      "text/plain": [
       "<Figure size 432x288 with 2 Axes>"
      ]
     },
     "metadata": {
      "needs_background": "light"
     },
     "output_type": "display_data"
    }
   ],
   "source": [
    "import matplotlib.pyplot as plt\n",
    "import numpy as np\n",
    "import itertools\n",
    "\n",
    "def plot_confusion_matrix(cm, classes, normalize=False, title='Confusion matrix', cmap=plt.cm.Blues):\n",
    "    \"\"\"\n",
    "    This function prints and plots the confusion matrix. Normalization can be applied by setting `normalize=True`.\n",
    "    \"\"\"\n",
    "    if normalize:\n",
    "        cm = cm.astype('float') / cm.sum(axis=1)[:, np.newaxis]\n",
    "        print(\"Normalized confusion matrix\")\n",
    "    else:\n",
    "        print('Confusion matrix, without normalization')\n",
    "        \n",
    "    print(cm)\n",
    "    plt.imshow(cm, interpolation='nearest', cmap=cmap)\n",
    "    plt.title(title)\n",
    "    plt.colorbar()\n",
    "    tick_marks = np.arange(len(classes))\n",
    "    plt.xticks(tick_marks, classes, rotation=45)\n",
    "    plt.yticks(tick_marks, classes)\n",
    "    fmt = '.2f' if normalize else 'd'\n",
    "    thresh = cm.max() / 2.\n",
    "    for i, j in itertools.product(range(cm.shape[0]), range(cm.shape[1])):\n",
    "        plt.text(j, i, format(cm[i, j], fmt), horizontalalignment=\"center\", color=\"white\" if cm[i, j] > thresh else \"black\")\n",
    "        \n",
    "    plt.tight_layout()\n",
    "    plt.ylabel('True label')\n",
    "    plt.xlabel('Predicted label')\n",
    "    \n",
    "#Get Class labels\n",
    "class_temp = test_predictionAndLabels.select(\"label\").groupBy(\"label\").count().sort('count', ascending=False).toPandas()[\"label\"].tolist()\n",
    "\n",
    "#Calculate confusion matrix\n",
    "from sklearn.metrics import confusion_matrix\n",
    "y_true = test_predictionAndLabels.select(\"label\")\n",
    "y_true = y_true.toPandas()\n",
    "y_pred = test_predictionAndLabels.select(\"prediction\")\n",
    "y_pred = y_pred.toPandas()\n",
    "cnf_matrix = confusion_matrix(y_true, y_pred,labels=class_temp)\n",
    "    \n",
    "#Plotting Results\n",
    "plt.figure()\n",
    "plot_confusion_matrix(cnf_matrix, classes=class_temp, title='Confusion matrix, without normalization')\n",
    "plt.show()\n"
   ]
  },
  {
   "cell_type": "markdown",
   "id": "6f992019-a549-4917-adb3-0137dd57aad2",
   "metadata": {},
   "source": [
    "## Questions for the Exercise 4 report:\n",
    "\n",
    "Please answer the following questions. Compile your answers into a 1 page report, put\n",
    "there your student ID number and your name.\n",
    "1. What have you learned today?\n",
    "2. Put results of steps 6 and 7. Explain what you have got there."
   ]
  }
 ],
 "metadata": {
  "kernelspec": {
   "display_name": "Python 3 (ipykernel)",
   "language": "python",
   "name": "python3"
  },
  "language_info": {
   "codemirror_mode": {
    "name": "ipython",
    "version": 3
   },
   "file_extension": ".py",
   "mimetype": "text/x-python",
   "name": "python",
   "nbconvert_exporter": "python",
   "pygments_lexer": "ipython3",
   "version": "3.9.10"
  }
 },
 "nbformat": 4,
 "nbformat_minor": 5
}
